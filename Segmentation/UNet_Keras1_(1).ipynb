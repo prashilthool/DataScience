{
  "cells": [
    {
      "cell_type": "code",
      "execution_count": null,
      "metadata": {
        "id": "2s5ElQnl-GGp"
      },
      "outputs": [],
      "source": [
        "import tensorflow as tf"
      ]
    },
    {
      "cell_type": "code",
      "execution_count": null,
      "metadata": {
        "id": "WZksBOYP-LJ3"
      },
      "outputs": [],
      "source": [
        "from tensorflow import keras\n",
        "import os,sys, random, cv2\n",
        "import matplotlib.pyplot as plt\n",
        "import numpy as np\n"
      ]
    },
    {
      "cell_type": "code",
      "execution_count": null,
      "metadata": {
        "colab": {
          "base_uri": "https://localhost:8080/"
        },
        "id": "gjju8yN5QyCn",
        "outputId": "f73db5e0-f299-426c-f200-4ca90560ccd7"
      },
      "outputs": [
        {
          "output_type": "stream",
          "name": "stdout",
          "text": [
            "Mounted at /content/drive\n"
          ]
        }
      ],
      "source": [
        "# random for seed for randamization\n",
        "\n",
        "from google.colab import drive\n",
        "drive.mount('/content/drive')"
      ]
    },
    {
      "cell_type": "code",
      "source": [
        "!nvidia-smi"
      ],
      "metadata": {
        "colab": {
          "base_uri": "https://localhost:8080/"
        },
        "id": "xQnAvJTbZ1X8",
        "outputId": "50a18223-a8f8-4613-fef1-6cb3f3bdabbb"
      },
      "execution_count": null,
      "outputs": [
        {
          "output_type": "stream",
          "name": "stdout",
          "text": [
            "Thu Aug 24 13:41:09 2023       \n",
            "+-----------------------------------------------------------------------------+\n",
            "| NVIDIA-SMI 525.105.17   Driver Version: 525.105.17   CUDA Version: 12.0     |\n",
            "|-------------------------------+----------------------+----------------------+\n",
            "| GPU  Name        Persistence-M| Bus-Id        Disp.A | Volatile Uncorr. ECC |\n",
            "| Fan  Temp  Perf  Pwr:Usage/Cap|         Memory-Usage | GPU-Util  Compute M. |\n",
            "|                               |                      |               MIG M. |\n",
            "|===============================+======================+======================|\n",
            "|   0  Tesla T4            Off  | 00000000:00:04.0 Off |                    0 |\n",
            "| N/A   54C    P8    10W /  70W |      0MiB / 15360MiB |      0%      Default |\n",
            "|                               |                      |                  N/A |\n",
            "+-------------------------------+----------------------+----------------------+\n",
            "                                                                               \n",
            "+-----------------------------------------------------------------------------+\n",
            "| Processes:                                                                  |\n",
            "|  GPU   GI   CI        PID   Type   Process name                  GPU Memory |\n",
            "|        ID   ID                                                   Usage      |\n",
            "|=============================================================================|\n",
            "|  No running processes found                                                 |\n",
            "+-----------------------------------------------------------------------------+\n"
          ]
        }
      ]
    },
    {
      "cell_type": "code",
      "execution_count": null,
      "metadata": {
        "colab": {
          "base_uri": "https://localhost:8080/"
        },
        "id": "5QIbNgAHTAmv",
        "outputId": "96169783-e3aa-4124-a250-cb749a3d6a3f"
      },
      "outputs": [
        {
          "output_type": "stream",
          "name": "stdout",
          "text": [
            "'Colab Notebooks'\n",
            " download.jpg\n",
            " dreamstime_s_204492534.jpg\n",
            " images.jpg\n",
            " k.jpg\n",
            " main-qimg-c98238764a199bb93b9804f230d1881c.webp\n",
            " Overlap.jpg\n",
            " Screenshot-2023-02-08-103141_png_jpg.rf.f42773d366400ac18cad792538d25146.jpg\n",
            " Slag-Inclusion.jpg\n",
            " stage1_train\n",
            " stage1_train.zip\n",
            " surface-porosity-300x188.webp\n",
            " the-facts-about-weld-porosity-1649054006.jpg\n",
            " yolov3\n"
          ]
        }
      ],
      "source": [
        "!ls /content/drive/MyDrive"
      ]
    },
    {
      "cell_type": "code",
      "execution_count": null,
      "metadata": {
        "id": "ujX3tJT9RX8Y"
      },
      "outputs": [],
      "source": [
        "class DataGen(keras.utils.Sequence):\n",
        "    def __init__(self, ids, path, batch_size=8, image_size=128):\n",
        "        self.ids = ids\n",
        "        self.path = path\n",
        "        self.batch_size = batch_size\n",
        "        self.image_size = image_size\n",
        "        self.on_epoch_end()\n",
        "\n",
        "    def __load__(self, id_name):\n",
        "        ## Path\n",
        "        image_path = os.path.join(self.path, id_name, \"images\", id_name) + \".png\"\n",
        "        mask_path = os.path.join(self.path, id_name, \"masks/\")\n",
        "        all_masks = os.listdir(mask_path)\n",
        "\n",
        "        ## Reading Image\n",
        "        image = cv2.imread(image_path, 1)\n",
        "        image = cv2.resize(image, (self.image_size, self.image_size))\n",
        "\n",
        "        mask = np.zeros((self.image_size, self.image_size, 1))\n",
        "\n",
        "        ## Reading Masks\n",
        "        for name in all_masks:\n",
        "            _mask_path = mask_path + name\n",
        "            _mask_image = cv2.imread(_mask_path, -1)\n",
        "            _mask_image = cv2.resize(_mask_image, (self.image_size, self.image_size)) #128x128\n",
        "            _mask_image = np.expand_dims(_mask_image, axis=-1)\n",
        "            mask = np.maximum(mask, _mask_image)\n",
        "\n",
        "        ## Normalizaing\n",
        "        image = image/255.0\n",
        "        mask = mask/255.0\n",
        "\n",
        "        return image, mask\n",
        "\n",
        "    def __getitem__(self, index):\n",
        "        if(index+1)*self.batch_size > len(self.ids):\n",
        "            self.batch_size = len(self.ids) - index*self.batch_size\n",
        "\n",
        "        files_batch = self.ids[index*self.batch_size : (index+1)*self.batch_size]\n",
        "\n",
        "        image = []\n",
        "        mask  = []\n",
        "\n",
        "        for id_name in files_batch:\n",
        "            _img, _mask = self.__load__(id_name)\n",
        "            image.append(_img)\n",
        "            mask.append(_mask)\n",
        "\n",
        "        image = np.array(image)\n",
        "        mask  = np.array(mask)\n",
        "\n",
        "        return image, mask\n",
        "\n",
        "    def on_epoch_end(self):\n",
        "        pass\n",
        "\n",
        "    def __len__(self):\n",
        "        return int(np.ceil(len(self.ids)/float(self.batch_size)))"
      ]
    },
    {
      "cell_type": "code",
      "execution_count": null,
      "metadata": {
        "id": "LYZ0TaH5rQfJ",
        "colab": {
          "base_uri": "https://localhost:8080/"
        },
        "outputId": "0d0757bb-f05a-441d-d920-4d517fb31de6"
      },
      "outputs": [
        {
          "output_type": "stream",
          "name": "stdout",
          "text": [
            "stage1_train\n"
          ]
        }
      ],
      "source": [
        "!ls /content/drive/MyDrive/stage1_train/"
      ]
    },
    {
      "cell_type": "code",
      "execution_count": null,
      "metadata": {
        "id": "YiUDmIoeRX48",
        "colab": {
          "base_uri": "https://localhost:8080/"
        },
        "outputId": "0a1b9d1d-abec-4e01-d4bf-b6e4cd30d80e"
      },
      "outputs": [
        {
          "output_type": "execute_result",
          "data": {
            "text/plain": [
              "['0b0d577159f0d6c266f360f7b8dfde46e16fa665138bf577ec3c6f9c70c0cd1e',\n",
              " '0b2e702f90aee4fff2bc6e4326308d50cf04701082e718d4f831c8959fbcda93',\n",
              " '0bda515e370294ed94efd36bd53782288acacb040c171df2ed97fd691fc9d8fe',\n",
              " '0bf33d3db4282d918ec3da7112d0bf0427d4eafe74b3ee0bb419770eefe8d7d6',\n",
              " '0bf4b144167694b6846d584cf52c458f34f28fcae75328a2a096c8214e01c0d0',\n",
              " '0c2550a23b8a0f29a7575de8c61690d3c31bc897dd5ba66caec201d201a278c2',\n",
              " '0c6507d493bf79b2ba248c5cca3d14df8b67328b89efa5f4a32f97a06a88c92c',\n",
              " '0d2bf916cc8de90d02f4cd4c23ea79b227dbc45d845b4124ffea380c92d34c8c',\n",
              " '0d3640c1f1b80f24e94cc9a5f3e1d9e8db7bf6af7d4aba920265f46cadc25e37',\n",
              " '0ddd8deaf1696db68b00c600601c6a74a0502caaf274222c8367bdc31458ae7e',\n",
              " '0e21d7b3eea8cdbbed60d51d72f4f8c1974c5d76a8a3893a7d5835c85284132e',\n",
              " '0e4c2e2780de7ec4312f0efcd86b07c3738d21df30bb4643659962b4da5505a3',\n",
              " '0e5edb072788c7b1da8829b02a49ba25668b09f7201cf2b70b111fc3b853d14f',\n",
              " '0ea221716cf13710214dcd331a61cea48308c3940df1d28cfc7fd817c83714e1',\n",
              " '1a11552569160f0b1ea10bedbd628ce6c14f29edec5092034c2309c556df833e',\n",
              " '1a75de9e11303142864efed27e69ea1960dbd82ca910de221a777ed2caf35a6b',\n",
              " '1a75e9f15481d11084fe66bc2a5afac6dc5bec20ed56a7351a6d65ef0fe8762b',\n",
              " '1b2bf5933b0fb82918d278983bee66e9532b53807c3638efd9af66d20a2bae88',\n",
              " '1b44d22643830cd4f23c9deadb0bd499fb392fb2cd9526d81547d93077d983df',\n",
              " '1b518cd2ea84a389c267662840f3d902d0129fab27696215db2488de6d4316c5',\n",
              " '1b6044e4858a9b7cee9b0028d8e54fbc8fb72e6c4424ab5b9f3859bfc72b33c5',\n",
              " '1bd0f2b3000b7c7723f25335fabfcdddcdf4595dd7de1b142d52bb7a186885f0',\n",
              " '1c2f9e121fc207efff79d46390df1a740566b683ff56a96d8cabe830a398dd2e',\n",
              " '1c681dfa5cf7e413305d2e90ee47553a46e29cce4f6ed034c8297e511714f867',\n",
              " '1c8b905c9519061d6d091e702b45274f4485c80dcf7fb1491e6b2723f5002180',\n",
              " '1d02c4b5921e916b9ddfb2f741fd6cf8d0e571ad51eb20e021c826b5fb87350e',\n",
              " '1d4a5e729bb96b08370789cad0791f6e52ce0ffe1fcc97a04046420b43c851dd',\n",
              " '6bd18a218d25247dc456aed124c066a6397fb93086e860e4d04014bfa9c9555d',\n",
              " '1db1cddf28e305c9478519cfac144eee2242183fe59061f1f15487e925e8f5b5',\n",
              " '1d5f4717e179a03675a5aac3fc1c862fb442ddc3e373923016fd6b1430da889b',\n",
              " '1e61ecf354cb93a62a9561db87a53985fb54e001444f98112ed0fc623fad793e',\n",
              " '1e8408fbb1619e7a0bcdd0bcd21fae57e7cb1f297d4c79787a9d0f5695d77073',\n",
              " '1e488c42eb1a54a3e8412b1f12cde530f950f238d71078f2ede6a85a02168e1f',\n",
              " '1ee4a111f0e0bb9b001121b94ff98ca736fad03797b25285fe33a47046b3e4b0',\n",
              " '1f6b7cead15344593b32d5f2345fc26713dc74d9b31306c824209d67da401fd8',\n",
              " '1ec74a26e772966df764e063f1391109a60d803cff9d15680093641ed691bf72',\n",
              " '1f9e429c12f4477221b5b855a5f494fda2ef6d064ff75b061ffaf093e91758c5',\n",
              " '1f0008060150b5b93084ae2e4dabd160ab80a95ce8071a321b80ec4e33b58aca',\n",
              " '2a1a294e21d76efd0399e4eb321b45f44f7510911acd92c988480195c5b4c812',\n",
              " '2a2032c4ed78f3fc64de7e5efd0bec26a81680b07404eaa54a1744b7ab3f8365',\n",
              " '2b50b1e3fa5c5aa39bc84ebfaea9961b7199c4d2488ae0b48d0b3459807d59d2',\n",
              " '2abc40c118bc7303592c8bb95a80361e27560854b8971ab34dcf91966575b1f2',\n",
              " '2ad489c11ed8b77a9d8a2339ac64ffc38e79281c03a2507db4688fd3186c0fe5',\n",
              " '2ab91a4408860ae8339689ed9f87aa9359de1bdd4ca5c2eab7fff7724dbd6707',\n",
              " '2c61fdcb36fd1b2944895af6204279e9f6c164ba894198b40c8b7a3c9bf500ea',\n",
              " '2c83c86dd4e5dacc024b55629375567fb8e320a82ef86f541cfe54764040fc25',\n",
              " '2bf594e9d06f78b4b79d7ffb395497a0a91126b6b0d710d7a9cee21f5c3bd177',\n",
              " '2c840a94d216f5ef4e499b53ae885e9b022cbf639e004ec788436093837823b2',\n",
              " '2cfa61bef6542dd359717e9131ce6f076c415a3bd7f48cb093b0d7f3b2ca785d',\n",
              " '2dd3356f2dcf470aec4003800744dfec6490e75d88011e1d835f4f3d60f88e7a',\n",
              " '2dd9d8c797fc695665326fc8fd0eb5cd292139fa478ccb5acb7fb352f7030063',\n",
              " '2cfa857e63be1b418c91ad5ea1f8d136fd1b80fc856e1d4277274c3dea28011c',\n",
              " '2d53d7ec0c579fffd6710c956288537d46c719a93c6a04ac0d6550f75a6a6493',\n",
              " '2dec81a678ddcac2b110acffe82427d857695180bd841e3f9736a554acf832af',\n",
              " '2e2d29fc44444a85049b162eb359a523dec108ccd5bd75022b25547491abf0c7',\n",
              " '2e172afb1f43b359f1f0208da9386aefe97c0c1afe202abfe6ec09cdca820990',\n",
              " '2f929b067a59f88530b6bfa6f6889bc3a38adf88d594895973d1c8b2549fd93d',\n",
              " '3a3fee427e6ef7dfd0d82681e2bcee2d054f80287aea7dfa3fa4447666f929b9',\n",
              " '3a22fe593d9606d4f137461dd6802fd3918f9fbf36f4a65292be69670365e2ca',\n",
              " '3a508d2dc03db46e7f97a2a30eabb62ab2886f3cedfea303de8f6a42e50d20eb',\n",
              " '3b3f516ebc9a16cff287a5ffd3a1861a345a6d38bedbba74f1c0b0e0eac62afd',\n",
              " '3ab9cab6212fabd723a2c5a1949c2ded19980398b56e6080978e796f45cbbc90',\n",
              " '3b75fc03a1d12b29bd2870eb1f6fdb44174dbd1118dfc11c31f127bd87bd27ef',\n",
              " '3b957237bc1e09740b58a414282393d3a91dde996b061e7061f4198fb03dab2e',\n",
              " '3b0709483b1e86449cc355bb797e841117ba178c6ae1ed955384f4da6486aa20',\n",
              " '3bf7873f11823f4b64422f49c8248dd95c0d01f9ae9075ae3d233bbb21a3d875',\n",
              " '3bfa8b3b01fd24a28477f103063d17368a7398b27331e020f3a0ef59bf68c940',\n",
              " '3ca8181367fc1258a418f7bf5044533c83e02a59c1a96def043295c429c297a8',\n",
              " '3d0ca3498d97edebd28dbc7035eced40baa4af199af09cbb7251792accaa69fe',\n",
              " '3bfd6bb152310f93daa6f4e1867c10572946e874b3a30c9ba8e0fcdeb590300b',\n",
              " '3ebd2ab34ba86e515feb79ffdeb7fc303a074a98ba39949b905dbde3ff4b7ec0',\n",
              " '3f9fc8e63f87e8a56d3eaef7db26f1b6db874d19f12abd5a752821b78d47661e',\n",
              " '4a424e0cb845cf6fd4d9fe62875552c7b89a4e0276cf16ebf46babe4656a794e',\n",
              " '4ae4f936a9ade472764dad80f60f7168e4be067aa66ce9d06d60ebe34951dca4',\n",
              " '4bf6a5ec42032bb8dbbb10d25fdc5211b2fe1ce44b6e577ef89dbda17697d819',\n",
              " '4b274461c6d001a7a9aeaf5952b40ac4934d1be96b9c176edfd628a8f77e6df2',\n",
              " '4c465a54e329ec7b0f4bc5f6acdfd3192707d6c0fbdf557339485581c5a6b3c1',\n",
              " '4ca5081854df7bbcaa4934fcf34318f82733a0f8c05b942c2265eea75419d62f',\n",
              " '4c032609d377bd980e01f888e0b298600bf8af0e33c4271a1f3aaf76964dce06',\n",
              " '4cbd6c37f3a55a538d759d440344c287cac66260d3047a83f429e63e7a0f7f20',\n",
              " '4d2cff9a0c8df3a7ef6100fda6f66e865a7670af6a18564767d8019b9ed2fd7b',\n",
              " '4d4ebfcae4374165ea6ae7c7e18fd0ba5014c3c860ee2489c59e25ddd45e7a32',\n",
              " '4d4f254f3b8b4408d661df3735591554b2f6587ce1952928d619b48010d55467',\n",
              " '4d14a3629b6af6de86d850be236b833a7bfcbf6d8665fd73c6dc339e06c14607',\n",
              " '4d09672bcf5a2661eea00891bbb8191225a06619a849aece37ad10d9dedbde3e',\n",
              " '4d40de30a3db3bc4f241cb7f48e8497c11e8f20a99bf55788bdce17242029745',\n",
              " '4dbbb275960ab9e4ec2c66c8d3000f7c70c8dce5112df591b95db84e25efa6e9',\n",
              " '4e1c889de3764694d0dea41e5682fedb265eaf2cdbe72ff6c1f518747d709464',\n",
              " '4e07a653352b30bb95b60ebc6c57afbc7215716224af731c51ff8d430788cd40',\n",
              " '4e23ecf65040f86420e0201134e538951acdeda84fbb274311f995682044dd64',\n",
              " '4e92129f4e8066d6f560d6022cd343a2245939aa49d8b06cddbd9bfc7e7eeb0e',\n",
              " '4ee5850b63549794eb3ecd3d5f5673164ac16936e36ecc3700da886e3b616149',\n",
              " '4ff152d76db095f75c664dd48e41e8c9953fd0e784535883916383165e28a08e',\n",
              " '5afb7932e9c7328f4fb1d7a8166a3699d6cdc5192b93758a75e9956f1513c5a3',\n",
              " '5b2ccfb94dedf2ec8797c0404fc324888e35ab903c41bb26f070552033ca8e6c',\n",
              " '5afcbfd0dd64392aa1e233b996d0bfb4354ee7119f30ae111c33d0fe4df11590',\n",
              " '5b0bde771bc67c505d1b59405cbcad0a2766ec3ee4e35852e959552c1b454233',\n",
              " '5b12df18e4ae4df5af06052584cf0e6bef58ee2a220653890636eef88a944e14',\n",
              " '5bb8508ff8ec8683fc6a8aa6bd470f6feb3af4eccdca07f51a1ebc9dad67cfb8',\n",
              " '5ba4facefc949c920d7054813a3e846b000969da2ed860148bdfd18456f59bcc',\n",
              " '5bda829acd824821bc1f3f6573cf065d364653d5322f033a4af943f7a6170566',\n",
              " '5c6eb9a47852754d4e45eceb9a696c64c7cfe304afc5ea491cdfef11d55c17f3',\n",
              " '5d2c98fd6fda3c7d739461c3b3d4a0c7f8456121a14519dc5955a1775227b053',\n",
              " '5cc036b65f7f2d5480e2be111a561f3713ac021683a9a9138dc49492a29ce856',\n",
              " '5c235b945b25b9905b9b0429ce59f1db51d0d0c7d48c2c21ab9f3ca54b0715e6',\n",
              " '5d21acedb3015c1208b31778561f8b1079cca7487399300390c3947f691e3974',\n",
              " '5d75a63972ef643efd7c42f20668b167f2af43635d6263962d84e62e7609ab51',\n",
              " '5d58600efa0c2667ec85595bf456a54e2bd6e6e9a5c0dff42d807bc9fe2b822e',\n",
              " '5ddbfba2519484316e4b7ccabfa605e6e6fd96c3d87ac8cdfd2c134571a15311',\n",
              " '5e263abff938acba1c0cff698261c7c00c23d7376e3ceacc3d5d4a655216b16d',\n",
              " '5ef4442e5b8b0b4cf824b61be4050dfd793d846e0a6800afa4425a2f66e91456',\n",
              " '5f9d29d6388c700f35a3c29fa1b1ce0c1cba6667d05fdb70bd1e89004dcf71ed',\n",
              " '6af82abb29539000be4696884fc822d3cafcb2105906dc7582c92dccad8948c5',\n",
              " '6ab24e7e1f6c9fdd371c5edae1bbb20abeeb976811f8ab2375880b4483860f4d',\n",
              " '6aa7dd0c88bec4f96cdd497f9c37779733033d9ec6513307461302d36bd32ac7',\n",
              " '6b6d4e6ff52de473a4b6f8bd0f11ae22242d508cc4117ff38ec39cbb88088aaa',\n",
              " '6b0ac2ab04c09dced54058ec504a4947f8ecd5727dfca7e0b3f69de71d0d31c7',\n",
              " '6b61ab2e3ff0e2c7a55fd71e290b51e142555cf82bc7574fc27326735e8acbd1',\n",
              " '6b72b61b80060a9e79a4747f9c5d5af135af9db466681c2d1086f784c7130699',\n",
              " '6bc8cda54f5b66a2a27d962ac219f8075bf7cc43b87ba0c9e776404370429e80']"
            ]
          },
          "metadata": {},
          "execution_count": 8
        }
      ],
      "source": [
        "image_size = 128\n",
        "train_path = \"/content/drive/MyDrive/stage1_train/stage1_train\"\n",
        "epochs = 40\n",
        "batch_size = 8\n",
        "\n",
        "## Training Ids\n",
        "train_ids = next(os.walk(train_path))[1]\n",
        "\n",
        "## Validation Data Size\n",
        "val_data_size = 10\n",
        "\n",
        "valid_ids = train_ids[:val_data_size]\n",
        "train_ids = train_ids[val_data_size:]\n",
        "train_ids"
      ]
    },
    {
      "cell_type": "code",
      "execution_count": null,
      "metadata": {
        "id": "eUqpsrU8RX2f",
        "colab": {
          "base_uri": "https://localhost:8080/"
        },
        "outputId": "5263003a-a897-4694-ff34-a60907023b47"
      },
      "outputs": [
        {
          "output_type": "stream",
          "name": "stdout",
          "text": [
            "(8, 128, 128, 3) (8, 128, 128, 1)\n",
            "8\n"
          ]
        },
        {
          "output_type": "execute_result",
          "data": {
            "text/plain": [
              "(None, None)"
            ]
          },
          "metadata": {},
          "execution_count": 9
        }
      ],
      "source": [
        "gen = DataGen(train_ids, train_path, batch_size=batch_size, image_size=image_size)\n",
        "x, y = gen.__getitem__(0)\n",
        "print(x.shape, y.shape),print(len(x))\n"
      ]
    },
    {
      "cell_type": "code",
      "execution_count": null,
      "metadata": {
        "id": "rKUeepJURXzz",
        "colab": {
          "base_uri": "https://localhost:8080/",
          "height": 289
        },
        "outputId": "a394a151-f5f0-46c5-db06-95a2b8e1c091"
      },
      "outputs": [
        {
          "output_type": "execute_result",
          "data": {
            "text/plain": [
              "<matplotlib.image.AxesImage at 0x7eb8833a53f0>"
            ]
          },
          "metadata": {},
          "execution_count": 10
        },
        {
          "output_type": "display_data",
          "data": {
            "text/plain": [
              "<Figure size 640x480 with 2 Axes>"
            ],
            "image/png": "[encoded data removed]"
          },
          "metadata": {}
        }
      ],
      "source": [
        "r = random.randint(0, len(x)-1)\n",
        "\n",
        "fig = plt.figure()\n",
        "fig.subplots_adjust(hspace=0.4, wspace=0.4)\n",
        "ax = fig.add_subplot(1, 2, 1)\n",
        "ax.imshow(x[r])\n",
        "ax = fig.add_subplot(1,2,2)\n",
        "ax.imshow(np.reshape(y[r],(image_size, image_size)),cmap = \"gray\")"
      ]
    },
    {
      "cell_type": "markdown",
      "metadata": {
        "id": "qwXxrWOfJSAT"
      },
      "source": [
        "**# down , up and base of UNet**"
      ]
    },
    {
      "cell_type": "code",
      "execution_count": null,
      "metadata": {
        "id": "-r9C3_69-VIh"
      },
      "outputs": [],
      "source": [
        "def down_block(x, filters, kernel_size= (3,3), padding = \"same\", strides =1 ):\n",
        "  c = keras.layers.Conv2D(filters, kernel_size, padding = padding, strides = strides)(x)\n",
        "  c = keras.layers.Conv2D(filters, kernel_size, padding = padding, strides = strides)(c)\n",
        "  p = keras.layers.MaxPool2D((2,2), (2,2))(c)\n",
        "\n",
        "  return c, p\n",
        "\n",
        "def up_block(x, skip, filters, kernel_size = (3,3), padding= \"same\", strides = 1):\n",
        "  us = keras.layers.UpSampling2D((2,2))(x)\n",
        "  concat = keras.layers.Concatenate()([us, skip])\n",
        "  c = keras.layers.Conv2D(filters, kernel_size , padding = padding, strides = strides)(concat)\n",
        "  c = keras.layers.Conv2D(filters, kernel_size , padding = padding, strides = strides)(c)\n",
        "\n",
        "  return c\n",
        "\n",
        "\n",
        "def bottleneck(x, filters, kernel_size = (3, 3), padding = \"same\", strides = 1):\n",
        "  c = keras.layers.Conv2D(filters, kernel_size, padding = padding, strides = strides)(x)\n",
        "  c = keras.layers.Conv2D(filters, kernel_size, padding = padding, strides = strides)(c)\n",
        "\n",
        "  return c\n",
        "\n",
        "\n",
        "\n",
        "\n"
      ]
    },
    {
      "cell_type": "markdown",
      "metadata": {
        "id": "THuMn6MzvisP"
      },
      "source": [
        "# UNet Model"
      ]
    },
    {
      "cell_type": "code",
      "execution_count": null,
      "metadata": {
        "id": "T_GQL2ievEzy"
      },
      "outputs": [],
      "source": [
        "def UNet():\n",
        "  f = [16, 32, 64, 128, 256]\n",
        "\n",
        "  inputs = keras.layers.Input((image_size, image_size,3))\n",
        "\n",
        "  p0 = inputs\n",
        "  c1, p1 = down_block(p0, f[0])\n",
        "  c2, p2 = down_block(p1, f[1])\n",
        "  c3, p3 = down_block(p2, f[2])\n",
        "  c4, p4 = down_block(p3, f[3])\n",
        "\n",
        "  bn = bottleneck(p4, f[4])\n",
        "\n",
        "\n",
        "  u1 = up_block(bn, c4, f[3])\n",
        "  u2 = up_block(u1, c3, f[2])\n",
        "  u3 = up_block(u2,c2, f[1])\n",
        "  u4 = up_block(u3, c1, f[0])\n",
        "\n",
        "\n",
        "  outputs = keras.layers.Conv2D(1, (1,1), padding=\"same\", activation = \"sigmoid\")(u4)\n",
        "\n",
        "  model = keras.models.Model(inputs, outputs)\n",
        "\n",
        "  return model\n",
        "\n",
        "\n",
        "\n"
      ]
    },
    {
      "cell_type": "code",
      "execution_count": null,
      "metadata": {
        "id": "qn-jtBwH2CSd",
        "colab": {
          "base_uri": "https://localhost:8080/"
        },
        "outputId": "99c2e53e-53fa-4413-b3c6-a80bcdd523be"
      },
      "outputs": [
        {
          "output_type": "stream",
          "name": "stdout",
          "text": [
            "Model: \"model\"\n",
            "__________________________________________________________________________________________________\n",
            " Layer (type)                   Output Shape         Param #     Connected to                     \n",
            "==================================================================================================\n",
            " input_1 (InputLayer)           [(None, 128, 128, 3  0           []                               \n",
            "                                )]                                                                \n",
            "                                                                                                  \n",
            " conv2d (Conv2D)                (None, 128, 128, 16  448         ['input_1[0][0]']                \n",
            "                                )                                                                 \n",
            "                                                                                                  \n",
            " conv2d_1 (Conv2D)              (None, 128, 128, 16  2320        ['conv2d[0][0]']                 \n",
            "                                )                                                                 \n",
            "                                                                                                  \n",
            " max_pooling2d (MaxPooling2D)   (None, 64, 64, 16)   0           ['conv2d_1[0][0]']               \n",
            "                                                                                                  \n",
            " conv2d_2 (Conv2D)              (None, 64, 64, 32)   4640        ['max_pooling2d[0][0]']          \n",
            "                                                                                                  \n",
            " conv2d_3 (Conv2D)              (None, 64, 64, 32)   9248        ['conv2d_2[0][0]']               \n",
            "                                                                                                  \n",
            " max_pooling2d_1 (MaxPooling2D)  (None, 32, 32, 32)  0           ['conv2d_3[0][0]']               \n",
            "                                                                                                  \n",
            " conv2d_4 (Conv2D)              (None, 32, 32, 64)   18496       ['max_pooling2d_1[0][0]']        \n",
            "                                                                                                  \n",
            " conv2d_5 (Conv2D)              (None, 32, 32, 64)   36928       ['conv2d_4[0][0]']               \n",
            "                                                                                                  \n",
            " max_pooling2d_2 (MaxPooling2D)  (None, 16, 16, 64)  0           ['conv2d_5[0][0]']               \n",
            "                                                                                                  \n",
            " conv2d_6 (Conv2D)              (None, 16, 16, 128)  73856       ['max_pooling2d_2[0][0]']        \n",
            "                                                                                                  \n",
            " conv2d_7 (Conv2D)              (None, 16, 16, 128)  147584      ['conv2d_6[0][0]']               \n",
            "                                                                                                  \n",
            " max_pooling2d_3 (MaxPooling2D)  (None, 8, 8, 128)   0           ['conv2d_7[0][0]']               \n",
            "                                                                                                  \n",
            " conv2d_8 (Conv2D)              (None, 8, 8, 256)    295168      ['max_pooling2d_3[0][0]']        \n",
            "                                                                                                  \n",
            " conv2d_9 (Conv2D)              (None, 8, 8, 256)    590080      ['conv2d_8[0][0]']               \n",
            "                                                                                                  \n",
            " up_sampling2d (UpSampling2D)   (None, 16, 16, 256)  0           ['conv2d_9[0][0]']               \n",
            "                                                                                                  \n",
            " concatenate (Concatenate)      (None, 16, 16, 384)  0           ['up_sampling2d[0][0]',          \n",
            "                                                                  'conv2d_7[0][0]']               \n",
            "                                                                                                  \n",
            " conv2d_10 (Conv2D)             (None, 16, 16, 128)  442496      ['concatenate[0][0]']            \n",
            "                                                                                                  \n",
            " conv2d_11 (Conv2D)             (None, 16, 16, 128)  147584      ['conv2d_10[0][0]']              \n",
            "                                                                                                  \n",
            " up_sampling2d_1 (UpSampling2D)  (None, 32, 32, 128)  0          ['conv2d_11[0][0]']              \n",
            "                                                                                                  \n",
            " concatenate_1 (Concatenate)    (None, 32, 32, 192)  0           ['up_sampling2d_1[0][0]',        \n",
            "                                                                  'conv2d_5[0][0]']               \n",
            "                                                                                                  \n",
            " conv2d_12 (Conv2D)             (None, 32, 32, 64)   110656      ['concatenate_1[0][0]']          \n",
            "                                                                                                  \n",
            " conv2d_13 (Conv2D)             (None, 32, 32, 64)   36928       ['conv2d_12[0][0]']              \n",
            "                                                                                                  \n",
            " up_sampling2d_2 (UpSampling2D)  (None, 64, 64, 64)  0           ['conv2d_13[0][0]']              \n",
            "                                                                                                  \n",
            " concatenate_2 (Concatenate)    (None, 64, 64, 96)   0           ['up_sampling2d_2[0][0]',        \n",
            "                                                                  'conv2d_3[0][0]']               \n",
            "                                                                                                  \n",
            " conv2d_14 (Conv2D)             (None, 64, 64, 32)   27680       ['concatenate_2[0][0]']          \n",
            "                                                                                                  \n",
            " conv2d_15 (Conv2D)             (None, 64, 64, 32)   9248        ['conv2d_14[0][0]']              \n",
            "                                                                                                  \n",
            " up_sampling2d_3 (UpSampling2D)  (None, 128, 128, 32  0          ['conv2d_15[0][0]']              \n",
            "                                )                                                                 \n",
            "                                                                                                  \n",
            " concatenate_3 (Concatenate)    (None, 128, 128, 48  0           ['up_sampling2d_3[0][0]',        \n",
            "                                )                                 'conv2d_1[0][0]']               \n",
            "                                                                                                  \n",
            " conv2d_16 (Conv2D)             (None, 128, 128, 16  6928        ['concatenate_3[0][0]']          \n",
            "                                )                                                                 \n",
            "                                                                                                  \n",
            " conv2d_17 (Conv2D)             (None, 128, 128, 16  2320        ['conv2d_16[0][0]']              \n",
            "                                )                                                                 \n",
            "                                                                                                  \n",
            " conv2d_18 (Conv2D)             (None, 128, 128, 1)  17          ['conv2d_17[0][0]']              \n",
            "                                                                                                  \n",
            "==================================================================================================\n",
            "Total params: 1,962,625\n",
            "Trainable params: 1,962,625\n",
            "Non-trainable params: 0\n",
            "__________________________________________________________________________________________________\n"
          ]
        }
      ],
      "source": [
        "\n",
        "model = UNet()\n",
        "model.compile(optimizer = \"adam\", loss = \"binary_crossentropy\", metrics = [\"acc\"])\n",
        "model.summary()"
      ]
    },
    {
      "cell_type": "markdown",
      "metadata": {
        "id": "wXrEkZnBd1X-"
      },
      "source": [
        "# Training the model"
      ]
    },
    {
      "cell_type": "code",
      "execution_count": null,
      "metadata": {
        "id": "EGu_P1gu2jEY"
      },
      "outputs": [],
      "source": [
        "train_gen = DataGen(train_ids, train_path, batch_size = batch_size, image_size = image_size)\n",
        "valid_gen = DataGen(valid_ids, train_path, batch_size = batch_size, image_size = image_size)\n",
        "\n",
        "train_steps = len(train_ids)//batch_size\n",
        "valid_steps = len(valid_ids)//batch_size\n",
        "\n",
        "\n"
      ]
    },
    {
      "cell_type": "code",
      "execution_count": null,
      "metadata": {
        "id": "KMss0Eu-fw4G",
        "colab": {
          "base_uri": "https://localhost:8080/"
        },
        "outputId": "4826f13f-8514-4332-e7a2-281d7e7df94e"
      },
      "outputs": [
        {
          "output_type": "stream",
          "name": "stdout",
          "text": [
            "Epoch 1/40\n",
            "15/15 [==============================] - 3051s 200s/step - loss: 1.3164 - acc: 0.7073 - val_loss: 0.5698 - val_acc: 0.7897\n",
            "Epoch 2/40\n",
            "15/15 [==============================] - 18s 1s/step - loss: 0.6121 - acc: 0.8251 - val_loss: 0.7415 - val_acc: 0.7610\n",
            "Epoch 3/40\n",
            "15/15 [==============================] - 17s 1s/step - loss: 0.6380 - acc: 0.7697 - val_loss: 0.6973 - val_acc: 0.7543\n",
            "Epoch 4/40\n",
            "15/15 [==============================] - 17s 1s/step - loss: 0.4998 - acc: 0.8380 - val_loss: 0.8155 - val_acc: 0.7610\n",
            "Epoch 5/40\n",
            "15/15 [==============================] - 17s 1s/step - loss: 0.4535 - acc: 0.8364 - val_loss: 0.4996 - val_acc: 0.7610\n",
            "Epoch 6/40\n",
            "15/15 [==============================] - 17s 1s/step - loss: 0.4247 - acc: 0.8381 - val_loss: 0.5213 - val_acc: 0.7610\n",
            "Epoch 7/40\n",
            "15/15 [==============================] - 17s 1s/step - loss: 0.4091 - acc: 0.8417 - val_loss: 0.5257 - val_acc: 0.7610\n",
            "Epoch 8/40\n",
            "15/15 [==============================] - 17s 1s/step - loss: 0.4072 - acc: 0.8405 - val_loss: 0.4187 - val_acc: 0.7725\n",
            "Epoch 9/40\n",
            "15/15 [==============================] - 17s 1s/step - loss: 0.3940 - acc: 0.8440 - val_loss: 0.5187 - val_acc: 0.7610\n",
            "Epoch 10/40\n",
            "15/15 [==============================] - 17s 1s/step - loss: 0.3855 - acc: 0.8460 - val_loss: 0.3959 - val_acc: 0.7978\n",
            "Epoch 11/40\n",
            "15/15 [==============================] - 17s 1s/step - loss: 0.3712 - acc: 0.8480 - val_loss: 0.3846 - val_acc: 0.7897\n",
            "Epoch 12/40\n",
            "15/15 [==============================] - 16s 1s/step - loss: 0.3590 - acc: 0.8488 - val_loss: 0.3757 - val_acc: 0.7913\n",
            "Epoch 13/40\n",
            "15/15 [==============================] - 16s 1s/step - loss: 0.3558 - acc: 0.8529 - val_loss: 0.4118 - val_acc: 0.7761\n",
            "Epoch 14/40\n",
            "15/15 [==============================] - 16s 1s/step - loss: 0.3437 - acc: 0.8534 - val_loss: 0.3788 - val_acc: 0.8044\n",
            "Epoch 15/40\n",
            "15/15 [==============================] - 16s 1s/step - loss: 0.3230 - acc: 0.8540 - val_loss: 0.3111 - val_acc: 0.8301\n",
            "Epoch 16/40\n",
            "15/15 [==============================] - 16s 1s/step - loss: 0.3094 - acc: 0.8603 - val_loss: 0.3294 - val_acc: 0.8212\n",
            "Epoch 17/40\n",
            "15/15 [==============================] - 18s 1s/step - loss: 0.2875 - acc: 0.8648 - val_loss: 0.3997 - val_acc: 0.8055\n",
            "Epoch 18/40\n",
            "15/15 [==============================] - 17s 1s/step - loss: 0.2910 - acc: 0.8701 - val_loss: 0.3174 - val_acc: 0.8378\n",
            "Epoch 19/40\n",
            "15/15 [==============================] - 17s 1s/step - loss: 0.2779 - acc: 0.8752 - val_loss: 0.3193 - val_acc: 0.8316\n",
            "Epoch 20/40\n",
            "15/15 [==============================] - 16s 1s/step - loss: 0.2586 - acc: 0.8786 - val_loss: 0.4101 - val_acc: 0.8099\n",
            "Epoch 21/40\n",
            "15/15 [==============================] - 16s 1s/step - loss: 0.2582 - acc: 0.8818 - val_loss: 0.2708 - val_acc: 0.8658\n",
            "Epoch 22/40\n",
            "15/15 [==============================] - 16s 1s/step - loss: 0.2463 - acc: 0.8843 - val_loss: 0.2826 - val_acc: 0.8538\n",
            "Epoch 23/40\n",
            "15/15 [==============================] - 16s 1s/step - loss: 0.2428 - acc: 0.8870 - val_loss: 0.2680 - val_acc: 0.8620\n",
            "Epoch 24/40\n",
            "15/15 [==============================] - 17s 1s/step - loss: 0.2450 - acc: 0.8894 - val_loss: 0.4105 - val_acc: 0.8354\n",
            "Epoch 25/40\n",
            "15/15 [==============================] - 17s 1s/step - loss: 0.2434 - acc: 0.8911 - val_loss: 0.3116 - val_acc: 0.8548\n",
            "Epoch 26/40\n",
            "15/15 [==============================] - 17s 1s/step - loss: 0.2327 - acc: 0.8933 - val_loss: 0.2502 - val_acc: 0.8743\n",
            "Epoch 27/40\n",
            "15/15 [==============================] - 17s 1s/step - loss: 0.2146 - acc: 0.9033 - val_loss: 0.2378 - val_acc: 0.8775\n",
            "Epoch 28/40\n",
            "15/15 [==============================] - 17s 1s/step - loss: 0.2145 - acc: 0.9037 - val_loss: 0.2540 - val_acc: 0.8802\n",
            "Epoch 29/40\n",
            "15/15 [==============================] - 17s 1s/step - loss: 0.2135 - acc: 0.9043 - val_loss: 0.2600 - val_acc: 0.8858\n",
            "Epoch 30/40\n",
            "15/15 [==============================] - 17s 1s/step - loss: 0.2237 - acc: 0.8997 - val_loss: 0.2611 - val_acc: 0.8710\n",
            "Epoch 31/40\n",
            "15/15 [==============================] - 17s 1s/step - loss: 0.2067 - acc: 0.9096 - val_loss: 0.2193 - val_acc: 0.8890\n",
            "Epoch 32/40\n",
            "15/15 [==============================] - 17s 1s/step - loss: 0.1931 - acc: 0.9152 - val_loss: 0.2156 - val_acc: 0.8929\n",
            "Epoch 33/40\n",
            "15/15 [==============================] - 17s 1s/step - loss: 0.1953 - acc: 0.9136 - val_loss: 0.2185 - val_acc: 0.8888\n",
            "Epoch 34/40\n",
            "15/15 [==============================] - 17s 1s/step - loss: 0.1946 - acc: 0.9144 - val_loss: 0.2236 - val_acc: 0.8894\n",
            "Epoch 35/40\n",
            "15/15 [==============================] - 17s 1s/step - loss: 0.1832 - acc: 0.9196 - val_loss: 0.3121 - val_acc: 0.8664\n",
            "Epoch 36/40\n",
            "15/15 [==============================] - 17s 1s/step - loss: 0.1770 - acc: 0.9211 - val_loss: 0.2306 - val_acc: 0.8831\n",
            "Epoch 37/40\n",
            "15/15 [==============================] - 16s 1s/step - loss: 0.1657 - acc: 0.9271 - val_loss: 0.2529 - val_acc: 0.8760\n",
            "Epoch 38/40\n",
            "15/15 [==============================] - 17s 1s/step - loss: 0.1676 - acc: 0.9259 - val_loss: 0.2162 - val_acc: 0.8945\n",
            "Epoch 39/40\n",
            "15/15 [==============================] - 17s 1s/step - loss: 0.1696 - acc: 0.9232 - val_loss: 0.2611 - val_acc: 0.8751\n",
            "Epoch 40/40\n",
            "15/15 [==============================] - 17s 1s/step - loss: 0.1657 - acc: 0.9273 - val_loss: 0.2162 - val_acc: 0.8932\n"
          ]
        },
        {
          "output_type": "execute_result",
          "data": {
            "text/plain": [
              "<keras.callbacks.History at 0x7eb87f79d930>"
            ]
          },
          "metadata": {},
          "execution_count": 15
        }
      ],
      "source": [
        "model.fit(train_gen, validation_data = valid_gen, steps_per_epoch = train_steps, validation_steps = valid_steps, epochs = epochs  )"
      ]
    },
    {
      "cell_type": "markdown",
      "metadata": {
        "id": "vWhTc66yizAU"
      },
      "source": [
        "# Model test\n"
      ]
    },
    {
      "cell_type": "code",
      "execution_count": null,
      "metadata": {
        "id": "3nAXna9Ghhyr",
        "colab": {
          "base_uri": "https://localhost:8080/"
        },
        "outputId": "e1491a83-2185-4744-82c5-bad37f403c02"
      },
      "outputs": [
        {
          "output_type": "stream",
          "name": "stdout",
          "text": [
            "1/1 [==============================] - 0s 205ms/step\n"
          ]
        }
      ],
      "source": [
        "model.save_weights(\"UNet.h5\")\n",
        "\n",
        "# data for pred\n",
        "\n",
        "x, y = valid_gen.__getitem__(0)\n",
        "result = model.predict(x)\n",
        "\n",
        "result = result > 0.5"
      ]
    },
    {
      "cell_type": "code",
      "execution_count": null,
      "metadata": {
        "id": "HcujqAKKjw8R",
        "colab": {
          "base_uri": "https://localhost:8080/",
          "height": 289
        },
        "outputId": "a3864fd5-a607-4edf-eac5-47449959573e"
      },
      "outputs": [
        {
          "output_type": "execute_result",
          "data": {
            "text/plain": [
              "<matplotlib.image.AxesImage at 0x7eb85ff90490>"
            ]
          },
          "metadata": {},
          "execution_count": 17
        },
        {
          "output_type": "display_data",
          "data": {
            "text/plain": [
              "<Figure size 640x480 with 2 Axes>"
            ],
            "image/png": "[encoded data removed]"
          },
          "metadata": {}
        }
      ],
      "source": [
        "fig = plt.figure()\n",
        "fig.subplots_adjust(hspace=0.4, wspace=0.4)\n",
        "\n",
        "ax = fig.add_subplot(1, 2, 1)\n",
        "ax.imshow(np.reshape(y[0]*255, (image_size, image_size)), cmap=\"gray\")\n",
        "\n",
        "ax = fig.add_subplot(1, 2, 2)\n",
        "ax.imshow(np.reshape(result[0]*255, (image_size, image_size)), cmap=\"gray\")"
      ]
    },
    {
      "cell_type": "code",
      "execution_count": null,
      "metadata": {
        "id": "OIrUsV1Zjx3R",
        "colab": {
          "base_uri": "https://localhost:8080/",
          "height": 289
        },
        "outputId": "856dd4de-1e26-4b19-93d4-d5690a0518e4"
      },
      "outputs": [
        {
          "output_type": "execute_result",
          "data": {
            "text/plain": [
              "<matplotlib.image.AxesImage at 0x7eb8823379d0>"
            ]
          },
          "metadata": {},
          "execution_count": 18
        },
        {
          "output_type": "display_data",
          "data": {
            "text/plain": [
              "<Figure size 640x480 with 2 Axes>"
            ],
            "image/png": "[encoded data removed]"
          },
          "metadata": {}
        }
      ],
      "source": [
        "fig = plt.figure()\n",
        "fig.subplots_adjust(hspace=0.4, wspace=0.4)\n",
        "\n",
        "ax = fig.add_subplot(1, 2, 1)\n",
        "ax.imshow(np.reshape(y[1]*255, (image_size, image_size)), cmap=\"gray\")\n",
        "\n",
        "ax = fig.add_subplot(1, 2, 2)\n",
        "ax.imshow(np.reshape(result[1]*255, (image_size, image_size)), cmap=\"gray\")"
      ]
    },
    {
      "cell_type": "code",
      "execution_count": null,
      "metadata": {
        "id": "lvEtcZDDs5VE"
      },
      "outputs": [],
      "source": []
    }
  ],
  "metadata": {
    "accelerator": "GPU",
    "colab": {
      "provenance": [],
      "gpuType": "T4"
    },
    "kernelspec": {
      "display_name": "Python 3",
      "name": "python3"
    },
    "language_info": {
      "name": "python"
    }
  },
  "nbformat": 4,
  "nbformat_minor": 0
}