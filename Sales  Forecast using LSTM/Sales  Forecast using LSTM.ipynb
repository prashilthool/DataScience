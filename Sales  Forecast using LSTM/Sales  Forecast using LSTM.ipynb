{
 "cells": [
  {
   "cell_type": "code",
   "execution_count": 49,
   "id": "6f922108",
   "metadata": {},
   "outputs": [],
   "source": [
    "import zipfile\n",
    "import os"
   ]
  },
  {
   "cell_type": "code",
   "execution_count": 50,
   "id": "08240abf",
   "metadata": {},
   "outputs": [
    {
     "name": "stdout",
     "output_type": "stream",
     "text": [
      "Files in ZIP: ['holidays_events.csv', 'oil.csv', 'sample_submission.csv', 'stores.csv', 'test.csv', 'train.csv', 'transactions.csv']\n",
      "              id        date  store_nbr                      family     sales  \\\n",
      "0              0  2013-01-01          1                  AUTOMOTIVE     0.000   \n",
      "1              1  2013-01-01          1                   BABY CARE     0.000   \n",
      "2              2  2013-01-01          1                      BEAUTY     0.000   \n",
      "3              3  2013-01-01          1                   BEVERAGES     0.000   \n",
      "4              4  2013-01-01          1                       BOOKS     0.000   \n",
      "...          ...         ...        ...                         ...       ...   \n",
      "3000883  3000883  2017-08-15          9                     POULTRY   438.133   \n",
      "3000884  3000884  2017-08-15          9              PREPARED FOODS   154.553   \n",
      "3000885  3000885  2017-08-15          9                     PRODUCE  2419.729   \n",
      "3000886  3000886  2017-08-15          9  SCHOOL AND OFFICE SUPPLIES   121.000   \n",
      "3000887  3000887  2017-08-15          9                     SEAFOOD    16.000   \n",
      "\n",
      "         onpromotion  \n",
      "0                  0  \n",
      "1                  0  \n",
      "2                  0  \n",
      "3                  0  \n",
      "4                  0  \n",
      "...              ...  \n",
      "3000883            0  \n",
      "3000884            1  \n",
      "3000885          148  \n",
      "3000886            8  \n",
      "3000887            0  \n",
      "\n",
      "[3000888 rows x 6 columns]\n"
     ]
    }
   ],
   "source": [
    "import zipfile\n",
    "import pandas as pd\n",
    "import os\n",
    "\n",
    "# Define the path to the ZIP file\n",
    "zip_path =zip_path = r\"C:\\Users\\prashil\\Downloads\\store-sales-time-series-forecasting.zip\"\n",
    "  # Replace with your file path\n",
    "\n",
    "# Extract the ZIP file\n",
    "with zipfile.ZipFile(zip_path, 'r') as zip_ref:\n",
    "    zip_ref.extractall('extracted_files')  # Extracts to a folder named 'extracted_files'\n",
    "\n",
    "# List files to find the CSV\n",
    "files = os.listdir('extracted_files')\n",
    "print(\"Files in ZIP:\", files)\n",
    "\n",
    "# Specify the CSV file name\n",
    "csv_file = 'extracted_files/train.csv'  # Replace with the actual CSV file name\n",
    "\n",
    "# Load CSV into pandas DataFrame\n",
    "df = pd.read_csv(csv_file)\n",
    "\n",
    "# Display the DataFrame\n",
    "print(df)\n"
   ]
  },
  {
   "cell_type": "code",
   "execution_count": 51,
   "id": "56a22ae9",
   "metadata": {},
   "outputs": [
    {
     "data": {
      "text/html": [
       "<div>\n",
       "<style scoped>\n",
       "    .dataframe tbody tr th:only-of-type {\n",
       "        vertical-align: middle;\n",
       "    }\n",
       "\n",
       "    .dataframe tbody tr th {\n",
       "        vertical-align: top;\n",
       "    }\n",
       "\n",
       "    .dataframe thead th {\n",
       "        text-align: right;\n",
       "    }\n",
       "</style>\n",
       "<table border=\"1\" class=\"dataframe\">\n",
       "  <thead>\n",
       "    <tr style=\"text-align: right;\">\n",
       "      <th></th>\n",
       "      <th>id</th>\n",
       "      <th>date</th>\n",
       "      <th>store_nbr</th>\n",
       "      <th>family</th>\n",
       "      <th>sales</th>\n",
       "      <th>onpromotion</th>\n",
       "    </tr>\n",
       "  </thead>\n",
       "  <tbody>\n",
       "    <tr>\n",
       "      <th>0</th>\n",
       "      <td>0</td>\n",
       "      <td>2013-01-01</td>\n",
       "      <td>1</td>\n",
       "      <td>AUTOMOTIVE</td>\n",
       "      <td>0.0</td>\n",
       "      <td>0</td>\n",
       "    </tr>\n",
       "    <tr>\n",
       "      <th>1</th>\n",
       "      <td>1</td>\n",
       "      <td>2013-01-01</td>\n",
       "      <td>1</td>\n",
       "      <td>BABY CARE</td>\n",
       "      <td>0.0</td>\n",
       "      <td>0</td>\n",
       "    </tr>\n",
       "    <tr>\n",
       "      <th>2</th>\n",
       "      <td>2</td>\n",
       "      <td>2013-01-01</td>\n",
       "      <td>1</td>\n",
       "      <td>BEAUTY</td>\n",
       "      <td>0.0</td>\n",
       "      <td>0</td>\n",
       "    </tr>\n",
       "    <tr>\n",
       "      <th>3</th>\n",
       "      <td>3</td>\n",
       "      <td>2013-01-01</td>\n",
       "      <td>1</td>\n",
       "      <td>BEVERAGES</td>\n",
       "      <td>0.0</td>\n",
       "      <td>0</td>\n",
       "    </tr>\n",
       "    <tr>\n",
       "      <th>4</th>\n",
       "      <td>4</td>\n",
       "      <td>2013-01-01</td>\n",
       "      <td>1</td>\n",
       "      <td>BOOKS</td>\n",
       "      <td>0.0</td>\n",
       "      <td>0</td>\n",
       "    </tr>\n",
       "  </tbody>\n",
       "</table>\n",
       "</div>"
      ],
      "text/plain": [
       "   id        date  store_nbr      family  sales  onpromotion\n",
       "0   0  2013-01-01          1  AUTOMOTIVE    0.0            0\n",
       "1   1  2013-01-01          1   BABY CARE    0.0            0\n",
       "2   2  2013-01-01          1      BEAUTY    0.0            0\n",
       "3   3  2013-01-01          1   BEVERAGES    0.0            0\n",
       "4   4  2013-01-01          1       BOOKS    0.0            0"
      ]
     },
     "execution_count": 51,
     "metadata": {},
     "output_type": "execute_result"
    }
   ],
   "source": [
    "df.head()"
   ]
  },
  {
   "cell_type": "code",
   "execution_count": 52,
   "id": "588f44a3",
   "metadata": {},
   "outputs": [],
   "source": [
    "csv_file_train = 'extracted_files/train.csv'"
   ]
  },
  {
   "cell_type": "code",
   "execution_count": 53,
   "id": "669375c0",
   "metadata": {},
   "outputs": [],
   "source": [
    "df_train = pd.read_csv(csv_file_train)"
   ]
  },
  {
   "cell_type": "code",
   "execution_count": 54,
   "id": "2a0151f4",
   "metadata": {},
   "outputs": [
    {
     "data": {
      "text/plain": [
       "id             0\n",
       "date           0\n",
       "store_nbr      0\n",
       "family         0\n",
       "sales          0\n",
       "onpromotion    0\n",
       "dtype: int64"
      ]
     },
     "execution_count": 54,
     "metadata": {},
     "output_type": "execute_result"
    }
   ],
   "source": [
    "df_train.isnull().sum()"
   ]
  },
  {
   "cell_type": "code",
   "execution_count": 55,
   "id": "16446e7b",
   "metadata": {},
   "outputs": [
    {
     "data": {
      "text/plain": [
       "store_nbr    0\n",
       "city         0\n",
       "state        0\n",
       "type         0\n",
       "cluster      0\n",
       "dtype: int64"
      ]
     },
     "execution_count": 55,
     "metadata": {},
     "output_type": "execute_result"
    }
   ],
   "source": [
    "csv_file_stores = 'extracted_files/stores.csv'\n",
    "df_stores= pd.read_csv(csv_file_stores)\n",
    "df_stores.isnull().sum()"
   ]
  },
  {
   "cell_type": "code",
   "execution_count": 56,
   "id": "ad12bacb",
   "metadata": {},
   "outputs": [
    {
     "data": {
      "text/plain": [
       "date            0\n",
       "holiday_type    0\n",
       "locale          0\n",
       "locale_name     0\n",
       "description     0\n",
       "transferred     0\n",
       "dtype: int64"
      ]
     },
     "execution_count": 56,
     "metadata": {},
     "output_type": "execute_result"
    }
   ],
   "source": [
    "csv_file_holidays = 'extracted_files/holidays_events.csv'\n",
    "df_holidays = pd.read_csv(csv_file_holidays)\n",
    "df_holidays.rename(columns= {'type': 'holiday_type'},inplace=True)\n",
    "df_holidays.isnull().sum()"
   ]
  },
  {
   "cell_type": "code",
   "execution_count": 57,
   "id": "fbf4b072",
   "metadata": {},
   "outputs": [
    {
     "name": "stdout",
     "output_type": "stream",
     "text": [
      "   id        date  store_nbr      family  sales  onpromotion   city  \\\n",
      "0   0  2013-01-01          1  AUTOMOTIVE    0.0            0  Quito   \n",
      "1   1  2013-01-01          1   BABY CARE    0.0            0  Quito   \n",
      "2   2  2013-01-01          1      BEAUTY    0.0            0  Quito   \n",
      "3   3  2013-01-01          1   BEVERAGES    0.0            0  Quito   \n",
      "4   4  2013-01-01          1       BOOKS    0.0            0  Quito   \n",
      "\n",
      "       state type  cluster  \n",
      "0  Pichincha    D       13  \n",
      "1  Pichincha    D       13  \n",
      "2  Pichincha    D       13  \n",
      "3  Pichincha    D       13  \n",
      "4  Pichincha    D       13  \n"
     ]
    }
   ],
   "source": [
    "df_combined = pd.merge(df_train, df_stores, on='store_nbr', how='left')\n",
    "print(df_combined.head())"
   ]
  },
  {
   "cell_type": "code",
   "execution_count": 58,
   "id": "89169888",
   "metadata": {},
   "outputs": [
    {
     "data": {
      "text/html": [
       "<div>\n",
       "<style scoped>\n",
       "    .dataframe tbody tr th:only-of-type {\n",
       "        vertical-align: middle;\n",
       "    }\n",
       "\n",
       "    .dataframe tbody tr th {\n",
       "        vertical-align: top;\n",
       "    }\n",
       "\n",
       "    .dataframe thead th {\n",
       "        text-align: right;\n",
       "    }\n",
       "</style>\n",
       "<table border=\"1\" class=\"dataframe\">\n",
       "  <thead>\n",
       "    <tr style=\"text-align: right;\">\n",
       "      <th></th>\n",
       "      <th>id</th>\n",
       "      <th>date</th>\n",
       "      <th>store_nbr</th>\n",
       "      <th>family</th>\n",
       "      <th>sales</th>\n",
       "      <th>onpromotion</th>\n",
       "      <th>city</th>\n",
       "      <th>state</th>\n",
       "      <th>type</th>\n",
       "      <th>cluster</th>\n",
       "    </tr>\n",
       "  </thead>\n",
       "  <tbody>\n",
       "    <tr>\n",
       "      <th>0</th>\n",
       "      <td>0</td>\n",
       "      <td>2013-01-01</td>\n",
       "      <td>1</td>\n",
       "      <td>AUTOMOTIVE</td>\n",
       "      <td>0.0</td>\n",
       "      <td>0</td>\n",
       "      <td>Quito</td>\n",
       "      <td>Pichincha</td>\n",
       "      <td>D</td>\n",
       "      <td>13</td>\n",
       "    </tr>\n",
       "    <tr>\n",
       "      <th>1</th>\n",
       "      <td>1</td>\n",
       "      <td>2013-01-01</td>\n",
       "      <td>1</td>\n",
       "      <td>BABY CARE</td>\n",
       "      <td>0.0</td>\n",
       "      <td>0</td>\n",
       "      <td>Quito</td>\n",
       "      <td>Pichincha</td>\n",
       "      <td>D</td>\n",
       "      <td>13</td>\n",
       "    </tr>\n",
       "    <tr>\n",
       "      <th>2</th>\n",
       "      <td>2</td>\n",
       "      <td>2013-01-01</td>\n",
       "      <td>1</td>\n",
       "      <td>BEAUTY</td>\n",
       "      <td>0.0</td>\n",
       "      <td>0</td>\n",
       "      <td>Quito</td>\n",
       "      <td>Pichincha</td>\n",
       "      <td>D</td>\n",
       "      <td>13</td>\n",
       "    </tr>\n",
       "    <tr>\n",
       "      <th>3</th>\n",
       "      <td>3</td>\n",
       "      <td>2013-01-01</td>\n",
       "      <td>1</td>\n",
       "      <td>BEVERAGES</td>\n",
       "      <td>0.0</td>\n",
       "      <td>0</td>\n",
       "      <td>Quito</td>\n",
       "      <td>Pichincha</td>\n",
       "      <td>D</td>\n",
       "      <td>13</td>\n",
       "    </tr>\n",
       "    <tr>\n",
       "      <th>4</th>\n",
       "      <td>4</td>\n",
       "      <td>2013-01-01</td>\n",
       "      <td>1</td>\n",
       "      <td>BOOKS</td>\n",
       "      <td>0.0</td>\n",
       "      <td>0</td>\n",
       "      <td>Quito</td>\n",
       "      <td>Pichincha</td>\n",
       "      <td>D</td>\n",
       "      <td>13</td>\n",
       "    </tr>\n",
       "  </tbody>\n",
       "</table>\n",
       "</div>"
      ],
      "text/plain": [
       "   id        date  store_nbr      family  sales  onpromotion   city  \\\n",
       "0   0  2013-01-01          1  AUTOMOTIVE    0.0            0  Quito   \n",
       "1   1  2013-01-01          1   BABY CARE    0.0            0  Quito   \n",
       "2   2  2013-01-01          1      BEAUTY    0.0            0  Quito   \n",
       "3   3  2013-01-01          1   BEVERAGES    0.0            0  Quito   \n",
       "4   4  2013-01-01          1       BOOKS    0.0            0  Quito   \n",
       "\n",
       "       state type  cluster  \n",
       "0  Pichincha    D       13  \n",
       "1  Pichincha    D       13  \n",
       "2  Pichincha    D       13  \n",
       "3  Pichincha    D       13  \n",
       "4  Pichincha    D       13  "
      ]
     },
     "execution_count": 58,
     "metadata": {},
     "output_type": "execute_result"
    }
   ],
   "source": [
    "df_combined.head() "
   ]
  },
  {
   "cell_type": "code",
   "execution_count": 11,
   "id": "2c766803",
   "metadata": {},
   "outputs": [],
   "source": [
    "df_combined = pd.merge(df_combined, df_holidays, on='date', how='left')"
   ]
  },
  {
   "cell_type": "code",
   "execution_count": 12,
   "id": "b64c4c8e",
   "metadata": {},
   "outputs": [
    {
     "data": {
      "text/html": [
       "<div>\n",
       "<style scoped>\n",
       "    .dataframe tbody tr th:only-of-type {\n",
       "        vertical-align: middle;\n",
       "    }\n",
       "\n",
       "    .dataframe tbody tr th {\n",
       "        vertical-align: top;\n",
       "    }\n",
       "\n",
       "    .dataframe thead th {\n",
       "        text-align: right;\n",
       "    }\n",
       "</style>\n",
       "<table border=\"1\" class=\"dataframe\">\n",
       "  <thead>\n",
       "    <tr style=\"text-align: right;\">\n",
       "      <th></th>\n",
       "      <th>id</th>\n",
       "      <th>date</th>\n",
       "      <th>store_nbr</th>\n",
       "      <th>family</th>\n",
       "      <th>sales</th>\n",
       "      <th>onpromotion</th>\n",
       "      <th>city</th>\n",
       "      <th>state</th>\n",
       "      <th>type</th>\n",
       "      <th>cluster</th>\n",
       "      <th>holiday_type</th>\n",
       "      <th>locale</th>\n",
       "      <th>locale_name</th>\n",
       "      <th>description</th>\n",
       "      <th>transferred</th>\n",
       "    </tr>\n",
       "  </thead>\n",
       "  <tbody>\n",
       "    <tr>\n",
       "      <th>0</th>\n",
       "      <td>0</td>\n",
       "      <td>2013-01-01</td>\n",
       "      <td>1</td>\n",
       "      <td>AUTOMOTIVE</td>\n",
       "      <td>0.0</td>\n",
       "      <td>0</td>\n",
       "      <td>Quito</td>\n",
       "      <td>Pichincha</td>\n",
       "      <td>D</td>\n",
       "      <td>13</td>\n",
       "      <td>Holiday</td>\n",
       "      <td>National</td>\n",
       "      <td>Ecuador</td>\n",
       "      <td>Primer dia del ano</td>\n",
       "      <td>False</td>\n",
       "    </tr>\n",
       "    <tr>\n",
       "      <th>1</th>\n",
       "      <td>1</td>\n",
       "      <td>2013-01-01</td>\n",
       "      <td>1</td>\n",
       "      <td>BABY CARE</td>\n",
       "      <td>0.0</td>\n",
       "      <td>0</td>\n",
       "      <td>Quito</td>\n",
       "      <td>Pichincha</td>\n",
       "      <td>D</td>\n",
       "      <td>13</td>\n",
       "      <td>Holiday</td>\n",
       "      <td>National</td>\n",
       "      <td>Ecuador</td>\n",
       "      <td>Primer dia del ano</td>\n",
       "      <td>False</td>\n",
       "    </tr>\n",
       "    <tr>\n",
       "      <th>2</th>\n",
       "      <td>2</td>\n",
       "      <td>2013-01-01</td>\n",
       "      <td>1</td>\n",
       "      <td>BEAUTY</td>\n",
       "      <td>0.0</td>\n",
       "      <td>0</td>\n",
       "      <td>Quito</td>\n",
       "      <td>Pichincha</td>\n",
       "      <td>D</td>\n",
       "      <td>13</td>\n",
       "      <td>Holiday</td>\n",
       "      <td>National</td>\n",
       "      <td>Ecuador</td>\n",
       "      <td>Primer dia del ano</td>\n",
       "      <td>False</td>\n",
       "    </tr>\n",
       "    <tr>\n",
       "      <th>3</th>\n",
       "      <td>3</td>\n",
       "      <td>2013-01-01</td>\n",
       "      <td>1</td>\n",
       "      <td>BEVERAGES</td>\n",
       "      <td>0.0</td>\n",
       "      <td>0</td>\n",
       "      <td>Quito</td>\n",
       "      <td>Pichincha</td>\n",
       "      <td>D</td>\n",
       "      <td>13</td>\n",
       "      <td>Holiday</td>\n",
       "      <td>National</td>\n",
       "      <td>Ecuador</td>\n",
       "      <td>Primer dia del ano</td>\n",
       "      <td>False</td>\n",
       "    </tr>\n",
       "    <tr>\n",
       "      <th>4</th>\n",
       "      <td>4</td>\n",
       "      <td>2013-01-01</td>\n",
       "      <td>1</td>\n",
       "      <td>BOOKS</td>\n",
       "      <td>0.0</td>\n",
       "      <td>0</td>\n",
       "      <td>Quito</td>\n",
       "      <td>Pichincha</td>\n",
       "      <td>D</td>\n",
       "      <td>13</td>\n",
       "      <td>Holiday</td>\n",
       "      <td>National</td>\n",
       "      <td>Ecuador</td>\n",
       "      <td>Primer dia del ano</td>\n",
       "      <td>False</td>\n",
       "    </tr>\n",
       "  </tbody>\n",
       "</table>\n",
       "</div>"
      ],
      "text/plain": [
       "   id        date  store_nbr      family  sales  onpromotion   city  \\\n",
       "0   0  2013-01-01          1  AUTOMOTIVE    0.0            0  Quito   \n",
       "1   1  2013-01-01          1   BABY CARE    0.0            0  Quito   \n",
       "2   2  2013-01-01          1      BEAUTY    0.0            0  Quito   \n",
       "3   3  2013-01-01          1   BEVERAGES    0.0            0  Quito   \n",
       "4   4  2013-01-01          1       BOOKS    0.0            0  Quito   \n",
       "\n",
       "       state type  cluster holiday_type    locale locale_name  \\\n",
       "0  Pichincha    D       13      Holiday  National     Ecuador   \n",
       "1  Pichincha    D       13      Holiday  National     Ecuador   \n",
       "2  Pichincha    D       13      Holiday  National     Ecuador   \n",
       "3  Pichincha    D       13      Holiday  National     Ecuador   \n",
       "4  Pichincha    D       13      Holiday  National     Ecuador   \n",
       "\n",
       "          description transferred  \n",
       "0  Primer dia del ano       False  \n",
       "1  Primer dia del ano       False  \n",
       "2  Primer dia del ano       False  \n",
       "3  Primer dia del ano       False  \n",
       "4  Primer dia del ano       False  "
      ]
     },
     "execution_count": 12,
     "metadata": {},
     "output_type": "execute_result"
    }
   ],
   "source": [
    "df_combined.head() "
   ]
  },
  {
   "cell_type": "code",
   "execution_count": 13,
   "id": "1491f864",
   "metadata": {},
   "outputs": [
    {
     "data": {
      "text/plain": [
       "id                    0\n",
       "date                  0\n",
       "store_nbr             0\n",
       "family                0\n",
       "sales                 0\n",
       "onpromotion           0\n",
       "city                  0\n",
       "state                 0\n",
       "type                  0\n",
       "cluster               0\n",
       "holiday_type    2551824\n",
       "locale          2551824\n",
       "locale_name     2551824\n",
       "description     2551824\n",
       "transferred     2551824\n",
       "dtype: int64"
      ]
     },
     "execution_count": 13,
     "metadata": {},
     "output_type": "execute_result"
    }
   ],
   "source": [
    "df_combined.isnull().sum()"
   ]
  },
  {
   "cell_type": "code",
   "execution_count": 14,
   "id": "80421ffc",
   "metadata": {},
   "outputs": [
    {
     "name": "stdout",
     "output_type": "stream",
     "text": [
      "holiday_type    0\n",
      "locale          0\n",
      "locale_name     0\n",
      "description     0\n",
      "transferred     0\n",
      "dtype: int64\n"
     ]
    }
   ],
   "source": [
    "colums_to_replace = ['holiday_type','locale','locale_name','description','transferred']\n",
    "df_combined[colums_to_replace] = df_combined[colums_to_replace].fillna(value='none')\n",
    "print(df_combined[colums_to_replace].isnull().sum())"
   ]
  },
  {
   "cell_type": "code",
   "execution_count": 15,
   "id": "2d6396ce",
   "metadata": {},
   "outputs": [
    {
     "data": {
      "text/html": [
       "<div>\n",
       "<style scoped>\n",
       "    .dataframe tbody tr th:only-of-type {\n",
       "        vertical-align: middle;\n",
       "    }\n",
       "\n",
       "    .dataframe tbody tr th {\n",
       "        vertical-align: top;\n",
       "    }\n",
       "\n",
       "    .dataframe thead th {\n",
       "        text-align: right;\n",
       "    }\n",
       "</style>\n",
       "<table border=\"1\" class=\"dataframe\">\n",
       "  <thead>\n",
       "    <tr style=\"text-align: right;\">\n",
       "      <th></th>\n",
       "      <th>id</th>\n",
       "      <th>date</th>\n",
       "      <th>store_nbr</th>\n",
       "      <th>family</th>\n",
       "      <th>sales</th>\n",
       "      <th>onpromotion</th>\n",
       "      <th>city</th>\n",
       "      <th>state</th>\n",
       "      <th>type</th>\n",
       "      <th>cluster</th>\n",
       "      <th>holiday_type</th>\n",
       "      <th>locale</th>\n",
       "      <th>locale_name</th>\n",
       "      <th>description</th>\n",
       "      <th>transferred</th>\n",
       "    </tr>\n",
       "  </thead>\n",
       "  <tbody>\n",
       "    <tr>\n",
       "      <th>0</th>\n",
       "      <td>0</td>\n",
       "      <td>2013-01-01</td>\n",
       "      <td>1</td>\n",
       "      <td>AUTOMOTIVE</td>\n",
       "      <td>0.0</td>\n",
       "      <td>0</td>\n",
       "      <td>Quito</td>\n",
       "      <td>Pichincha</td>\n",
       "      <td>D</td>\n",
       "      <td>13</td>\n",
       "      <td>Holiday</td>\n",
       "      <td>National</td>\n",
       "      <td>Ecuador</td>\n",
       "      <td>Primer dia del ano</td>\n",
       "      <td>False</td>\n",
       "    </tr>\n",
       "    <tr>\n",
       "      <th>1</th>\n",
       "      <td>1</td>\n",
       "      <td>2013-01-01</td>\n",
       "      <td>1</td>\n",
       "      <td>BABY CARE</td>\n",
       "      <td>0.0</td>\n",
       "      <td>0</td>\n",
       "      <td>Quito</td>\n",
       "      <td>Pichincha</td>\n",
       "      <td>D</td>\n",
       "      <td>13</td>\n",
       "      <td>Holiday</td>\n",
       "      <td>National</td>\n",
       "      <td>Ecuador</td>\n",
       "      <td>Primer dia del ano</td>\n",
       "      <td>False</td>\n",
       "    </tr>\n",
       "    <tr>\n",
       "      <th>2</th>\n",
       "      <td>2</td>\n",
       "      <td>2013-01-01</td>\n",
       "      <td>1</td>\n",
       "      <td>BEAUTY</td>\n",
       "      <td>0.0</td>\n",
       "      <td>0</td>\n",
       "      <td>Quito</td>\n",
       "      <td>Pichincha</td>\n",
       "      <td>D</td>\n",
       "      <td>13</td>\n",
       "      <td>Holiday</td>\n",
       "      <td>National</td>\n",
       "      <td>Ecuador</td>\n",
       "      <td>Primer dia del ano</td>\n",
       "      <td>False</td>\n",
       "    </tr>\n",
       "    <tr>\n",
       "      <th>3</th>\n",
       "      <td>3</td>\n",
       "      <td>2013-01-01</td>\n",
       "      <td>1</td>\n",
       "      <td>BEVERAGES</td>\n",
       "      <td>0.0</td>\n",
       "      <td>0</td>\n",
       "      <td>Quito</td>\n",
       "      <td>Pichincha</td>\n",
       "      <td>D</td>\n",
       "      <td>13</td>\n",
       "      <td>Holiday</td>\n",
       "      <td>National</td>\n",
       "      <td>Ecuador</td>\n",
       "      <td>Primer dia del ano</td>\n",
       "      <td>False</td>\n",
       "    </tr>\n",
       "    <tr>\n",
       "      <th>4</th>\n",
       "      <td>4</td>\n",
       "      <td>2013-01-01</td>\n",
       "      <td>1</td>\n",
       "      <td>BOOKS</td>\n",
       "      <td>0.0</td>\n",
       "      <td>0</td>\n",
       "      <td>Quito</td>\n",
       "      <td>Pichincha</td>\n",
       "      <td>D</td>\n",
       "      <td>13</td>\n",
       "      <td>Holiday</td>\n",
       "      <td>National</td>\n",
       "      <td>Ecuador</td>\n",
       "      <td>Primer dia del ano</td>\n",
       "      <td>False</td>\n",
       "    </tr>\n",
       "  </tbody>\n",
       "</table>\n",
       "</div>"
      ],
      "text/plain": [
       "   id        date  store_nbr      family  sales  onpromotion   city  \\\n",
       "0   0  2013-01-01          1  AUTOMOTIVE    0.0            0  Quito   \n",
       "1   1  2013-01-01          1   BABY CARE    0.0            0  Quito   \n",
       "2   2  2013-01-01          1      BEAUTY    0.0            0  Quito   \n",
       "3   3  2013-01-01          1   BEVERAGES    0.0            0  Quito   \n",
       "4   4  2013-01-01          1       BOOKS    0.0            0  Quito   \n",
       "\n",
       "       state type  cluster holiday_type    locale locale_name  \\\n",
       "0  Pichincha    D       13      Holiday  National     Ecuador   \n",
       "1  Pichincha    D       13      Holiday  National     Ecuador   \n",
       "2  Pichincha    D       13      Holiday  National     Ecuador   \n",
       "3  Pichincha    D       13      Holiday  National     Ecuador   \n",
       "4  Pichincha    D       13      Holiday  National     Ecuador   \n",
       "\n",
       "          description transferred  \n",
       "0  Primer dia del ano       False  \n",
       "1  Primer dia del ano       False  \n",
       "2  Primer dia del ano       False  \n",
       "3  Primer dia del ano       False  \n",
       "4  Primer dia del ano       False  "
      ]
     },
     "execution_count": 15,
     "metadata": {},
     "output_type": "execute_result"
    }
   ],
   "source": [
    "df_combined.head()"
   ]
  },
  {
   "cell_type": "code",
   "execution_count": 16,
   "id": "ea038d5e",
   "metadata": {},
   "outputs": [],
   "source": [
    "import matplotlib.pyplot as plt"
   ]
  },
  {
   "cell_type": "markdown",
   "id": "368c26c4",
   "metadata": {},
   "source": [
    "# scatter plote # \n",
    "A magnitude 7.8 earthquake struck Ecuador on April 16, 2016. People rallied in relief efforts donating water and other first need products which greatly affected supermarket sales for several weeks after the earthquake. so there is a spike in sales around those weeks.those spike in sale is can imbalance model accuracy therefore it can be removed to stabilzed model."
   ]
  },
  {
   "cell_type": "code",
   "execution_count": 17,
   "id": "2d3e1713",
   "metadata": {},
   "outputs": [
    {
     "data": {
      "image/png": "[encoded data removed]",
      "text/plain": [
       "<Figure size 1000x600 with 1 Axes>"
      ]
     },
     "metadata": {},
     "output_type": "display_data"
    }
   ],
   "source": [
    "# Convert 'date' column to datetime\n",
    "df_combined['date'] = pd.to_datetime(df_combined['date'])\n",
    "dt_stats = df_combined\n",
    "# Scatter Plot\n",
    "plt.figure(figsize=(10, 6))\n",
    "plt.scatter(df_combined['date'], df_combined['sales'])\n",
    "plt.title('Sales Over Time', fontsize=16)\n",
    "plt.xlabel('Date', fontsize=14)\n",
    "plt.ylabel('Sales', fontsize=14)\n",
    "plt.grid(True)\n",
    "plt.show()"
   ]
  },
  {
   "cell_type": "code",
   "execution_count": 18,
   "id": "058e0117",
   "metadata": {},
   "outputs": [
    {
     "data": {
      "image/png": "[encoded data removed]",
      "text/plain": [
       "<Figure size 1000x600 with 1 Axes>"
      ]
     },
     "metadata": {},
     "output_type": "display_data"
    }
   ],
   "source": [
    "sales_by_year = df_combined.groupby(df_combined['date'].dt.year)['sales'].sum().reset_index()\n",
    "# Plot the graph\n",
    "# Plot the graph\n",
    "plt.figure(figsize=(10, 6))\n",
    "plt.plot(sales_by_year['date'], sales_by_year['sales'], marker='o')\n",
    "plt.title('Year-wise Sum of Sales')\n",
    "plt.xlabel('Year')\n",
    "plt.ylabel('Sum of Sales')\n",
    "plt.grid()\n",
    "plt.show()\n"
   ]
  },
  {
   "cell_type": "code",
   "execution_count": 19,
   "id": "cf3bfa84",
   "metadata": {
    "scrolled": false
   },
   "outputs": [
    {
     "data": {
      "image/png": "[encoded data removed]",
      "text/plain": [
       "<Figure size 1000x600 with 1 Axes>"
      ]
     },
     "metadata": {},
     "output_type": "display_data"
    }
   ],
   "source": [
    "df_filterd = df_combined[df_combined['date'].dt.year==2016]\n",
    "#scatter plot\n",
    "plt.figure(figsize=(10,6))\n",
    "plt.scatter(df_filterd['date'],df_filterd['sales'])\n",
    "plt.title(f'Sales Scatter Plot for year {2016}')\n",
    "plt.xlabel('Sales')\n",
    "plt.ylabel('Date')\n",
    "plt.grid()\n",
    "plt.show()"
   ]
  },
  {
   "cell_type": "code",
   "execution_count": 20,
   "id": "5dccb645",
   "metadata": {},
   "outputs": [
    {
     "ename": "NameError",
     "evalue": "name 'px' is not defined",
     "output_type": "error",
     "traceback": [
      "\u001b[1;31m---------------------------------------------------------------------------\u001b[0m",
      "\u001b[1;31mNameError\u001b[0m                                 Traceback (most recent call last)",
      "\u001b[1;32m~\\AppData\\Local\\Temp\\ipykernel_10992\\496286922.py\u001b[0m in \u001b[0;36m<module>\u001b[1;34m\u001b[0m\n\u001b[0;32m     12\u001b[0m \u001b[1;33m\u001b[0m\u001b[0m\n\u001b[0;32m     13\u001b[0m \u001b[1;31m# Create interactive line plot\u001b[0m\u001b[1;33m\u001b[0m\u001b[1;33m\u001b[0m\u001b[0m\n\u001b[1;32m---> 14\u001b[1;33m fig = px.line(\n\u001b[0m\u001b[0;32m     15\u001b[0m     \u001b[0mdata_frame\u001b[0m\u001b[1;33m=\u001b[0m\u001b[0mdf_grouped\u001b[0m\u001b[1;33m,\u001b[0m\u001b[1;33m\u001b[0m\u001b[1;33m\u001b[0m\u001b[0m\n\u001b[0;32m     16\u001b[0m     \u001b[0mx\u001b[0m\u001b[1;33m=\u001b[0m\u001b[1;34m'year'\u001b[0m\u001b[1;33m,\u001b[0m                   \u001b[1;31m# X-axis: Year\u001b[0m\u001b[1;33m\u001b[0m\u001b[1;33m\u001b[0m\u001b[0m\n",
      "\u001b[1;31mNameError\u001b[0m: name 'px' is not defined"
     ]
    }
   ],
   "source": [
    "# Group sales by year\n",
    "df_grouped = df_combined.groupby(df_combined['date'].dt.year).agg(\n",
    "    total_sales=('sales', 'sum'),\n",
    "    first_date=('date', 'min')  # Capture the first date of each year for interactivity\n",
    ").reset_index()\n",
    "\n",
    "# Add interactive details\n",
    "df_grouped['year'] = df_grouped['first_date'].dt.year\n",
    "df_grouped['quarter'] = df_grouped['first_date'].dt.to_period('Q').astype(str)\n",
    "df_grouped['month'] = df_grouped['first_date'].dt.month_name()\n",
    "df_grouped['date'] = df_grouped['first_date']  # Keep the first date for tooltips\n",
    "\n",
    "# Create interactive line plot\n",
    "fig = px.line(\n",
    "    data_frame=df_grouped,\n",
    "    x='year',                   # X-axis: Year\n",
    "    y='total_sales',            # Y-axis: Total Sales\n",
    "    title='Interactive Sales vs Year',\n",
    "    labels={'total_sales': 'Total Sales', 'year': 'Year'},\n",
    "    hover_data=['year', 'quarter', 'month', 'date']  # Tooltip fields\n",
    ")\n",
    "\n",
    "# Show plot\n",
    "fig.show()"
   ]
  },
  {
   "cell_type": "code",
   "execution_count": null,
   "id": "3e6e2976",
   "metadata": {},
   "outputs": [],
   "source": [
    "df_combined.describe()\n"
   ]
  },
  {
   "cell_type": "code",
   "execution_count": null,
   "id": "78b58dee",
   "metadata": {},
   "outputs": [],
   "source": [
    "df_combined = df_combined[df_combined['sales']<=40000]"
   ]
  },
  {
   "cell_type": "code",
   "execution_count": null,
   "id": "16f01402",
   "metadata": {},
   "outputs": [],
   "source": [
    "df_combined.describe()"
   ]
  },
  {
   "cell_type": "code",
   "execution_count": null,
   "id": "e09bd21f",
   "metadata": {
    "scrolled": false
   },
   "outputs": [],
   "source": [
    "# Convert 'date' column to datetime\n",
    "# Scatter Plot\n",
    "plt.figure(figsize=(10, 6))\n",
    "plt.scatter(df_combined['date'], df_combined['sales'])\n",
    "plt.title('Sales Over Time', fontsize=16)\n",
    "plt.xlabel('Date', fontsize=14)\n",
    "plt.ylabel('Sales', fontsize=14)\n",
    "plt.grid(True)\n",
    "plt.show()"
   ]
  },
  {
   "cell_type": "code",
   "execution_count": null,
   "id": "d81f688d",
   "metadata": {},
   "outputs": [],
   "source": [
    "df_combined.head()"
   ]
  },
  {
   "cell_type": "code",
   "execution_count": null,
   "id": "c1c4fb57",
   "metadata": {},
   "outputs": [],
   "source": [
    "import numpy as np \n",
    "from sklearn.preprocessing import MinMaxScaler, LabelEncoder\n",
    "from tensorflow.keras.models import Sequential\n",
    "from  tensorflow.keras.layers import LSTM , Dense"
   ]
  },
  {
   "cell_type": "code",
   "execution_count": 22,
   "id": "ad6e878a",
   "metadata": {},
   "outputs": [
    {
     "name": "stderr",
     "output_type": "stream",
     "text": [
      "Encoding categorical variables: 100%|██████████████████████████████████████████████████| 12/12 [00:06<00:00,  1.73it/s]\n",
      "Creating lagged features for sales: 100%|██████████████████████████████████████████████| 10/10 [00:00<00:00, 13.98it/s]\n"
     ]
    },
    {
     "name": "stdout",
     "output_type": "stream",
     "text": [
      "Shape of X before reshaping: (3054338, 10)\n",
      "Shape of y: (3054338,)\n",
      "Shape of X_train: (2443470, 10, 1)\n",
      "Shape of X_test: (610868, 10, 1)\n",
      "Shape of y_train: (2443470,)\n",
      "Shape of y_test: (610868,)\n"
     ]
    },
    {
     "data": {
      "application/vnd.jupyter.widget-view+json": {
       "model_id": "8d06d585f09b4df198fbcb9969dcc10d",
       "version_major": 2,
       "version_minor": 0
      },
      "text/plain": [
       "0epoch [00:00, ?epoch/s]"
      ]
     },
     "metadata": {},
     "output_type": "display_data"
    },
    {
     "data": {
      "application/vnd.jupyter.widget-view+json": {
       "model_id": "",
       "version_major": 2,
       "version_minor": 0
      },
      "text/plain": [
       "0batch [00:00, ?batch/s]"
      ]
     },
     "metadata": {},
     "output_type": "display_data"
    },
    {
     "name": "stdout",
     "output_type": "stream",
     "text": [
      "\n",
      "Epoch 1: val_loss improved from inf to 0.00011, saving model to model_checkpoint.h5\n",
      "\n",
      "Epoch 2: val_loss improved from 0.00011 to 0.00011, saving model to model_checkpoint.h5\n",
      "\n",
      "Epoch 3: val_loss did not improve from 0.00011\n",
      "\n",
      "Epoch 4: val_loss did not improve from 0.00011\n",
      "\n",
      "Epoch 5: val_loss improved from 0.00011 to 0.00011, saving model to model_checkpoint.h5\n",
      "\n",
      "Epoch 6: val_loss improved from 0.00011 to 0.00010, saving model to model_checkpoint.h5\n",
      "\n",
      "Epoch 7: val_loss did not improve from 0.00010\n",
      "\n",
      "Epoch 8: val_loss improved from 0.00010 to 0.00010, saving model to model_checkpoint.h5\n",
      "\n",
      "Epoch 9: val_loss improved from 0.00010 to 0.00010, saving model to model_checkpoint.h5\n",
      "\n",
      "Epoch 10: val_loss improved from 0.00010 to 0.00010, saving model to model_checkpoint.h5\n",
      "19090/19090 [==============================] - 118s 6ms/step\n",
      "Predicted sales (first 10): [[1756.1251 ]\n",
      " [ 808.3535 ]\n",
      " [ 109.71645]\n",
      " [ 162.82552]\n",
      " [  94.61821]\n",
      " [ 212.94778]\n",
      " [ 504.63107]\n",
      " [ 513.87317]\n",
      " [ 434.2919 ]\n",
      " [ 103.53463]]\n"
     ]
    }
   ],
   "source": [
    "import pandas as pd\n",
    "import numpy as np\n",
    "from sklearn.preprocessing import MinMaxScaler, LabelEncoder\n",
    "from tensorflow.keras.models import Sequential\n",
    "from tensorflow.keras.layers import LSTM, Dense\n",
    "from tensorflow.keras.callbacks import ModelCheckpoint\n",
    "from tqdm import tqdm\n",
    "from tqdm.keras import TqdmCallback\n",
    "\n",
    "# Load and preprocess the data\n",
    "df_combined['date'] = pd.to_datetime(df_combined['date'])\n",
    "df_combined.sort_values(by=['date'], inplace=True)\n",
    "\n",
    "# Convert boolean columns to integers or strings\n",
    "df_combined['transferred'] = df_combined['transferred'].astype(str)\n",
    "\n",
    "# Encode categorical variables with tqdm\n",
    "label_encoders = {}\n",
    "for col in tqdm(['store_nbr', 'family', 'onpromotion', 'city', 'state', 'type', 'cluster', \n",
    "                 'holiday_type', 'locale', 'locale_name', 'description', 'transferred'], \n",
    "                desc=\"Encoding categorical variables\"):\n",
    "    le = LabelEncoder()\n",
    "    df_combined[col] = le.fit_transform(df_combined[col])\n",
    "    label_encoders[col] = le\n",
    "\n",
    "# Scale numerical data\n",
    "scaler = MinMaxScaler()\n",
    "df_combined['sales'] = scaler.fit_transform(df_combined[['sales']])\n",
    "\n",
    "# Create lagged features with tqdm\n",
    "def create_lagged_feature(data, target_col, lags: int):\n",
    "    df_lags = pd.DataFrame()\n",
    "    for lag in tqdm(range(1, lags + 1), desc=f\"Creating lagged features for {target_col}\"):\n",
    "        df_lags[f'{target_col}_lag{lag}'] = data[target_col].shift(lag)\n",
    "    return df_lags\n",
    "\n",
    "# Set lags and generate lagged features\n",
    "lags = 10\n",
    "lagged_sales = create_lagged_feature(df_combined[['sales']], 'sales', lags=lags)\n",
    "df_combined = pd.concat([df_combined, lagged_sales], axis=1)\n",
    "df_combined.dropna(inplace=True)\n",
    "\n",
    "# Prepare input and output\n",
    "X = df_combined[[f'sales_lag{lag}' for lag in range(1, lags + 1)]].values\n",
    "y = df_combined['sales'].values\n",
    "\n",
    "# Verify shapes before reshaping\n",
    "print(f\"Shape of X before reshaping: {X.shape}\")\n",
    "print(f\"Shape of y: {y.shape}\")\n",
    "\n",
    "# Reshape X for LSTM (samples, timesteps, features)\n",
    "# Ensure the reshaping dimensions align with the size of the array\n",
    "X = X.reshape((X.shape[0], lags, -1))  # Use -1 to infer the last dimension\n",
    "\n",
    "# Split into train and test\n",
    "train_size = int(0.8 * len(X))\n",
    "X_train, X_test = X[:train_size], X[train_size:]\n",
    "y_train, y_test = y[:train_size], y[train_size:]\n",
    "\n",
    "# Verify shapes of training and testing sets\n",
    "print(f\"Shape of X_train: {X_train.shape}\")\n",
    "print(f\"Shape of X_test: {X_test.shape}\")\n",
    "print(f\"Shape of y_train: {y_train.shape}\")\n",
    "print(f\"Shape of y_test: {y_test.shape}\")\n",
    "\n",
    "# Define the LSTM model\n",
    "model = Sequential([\n",
    "    LSTM(50, activation='relu', input_shape=(X_train.shape[1], X_train.shape[2])),\n",
    "    Dense(1)\n",
    "])\n",
    "model.compile(optimizer='adam', loss='mse')\n",
    "\n",
    "# Define the checkpoint callback\n",
    "checkpoint_filepath = 'model_checkpoint.h5'\n",
    "checkpoint = ModelCheckpoint(\n",
    "    filepath=checkpoint_filepath,\n",
    "    monitor='val_loss',\n",
    "    save_best_only=True,\n",
    "    mode='min',\n",
    "    verbose=1\n",
    ")\n",
    "\n",
    "# Train the model with tqdm for progress tracking\n",
    "history = model.fit(\n",
    "    X_train, y_train,\n",
    "    epochs=10,\n",
    "    batch_size=32,\n",
    "    validation_data=(X_test, y_test),\n",
    "    callbacks=[checkpoint, TqdmCallback(verbose=1)],  # Include tqdm callback for progress bar\n",
    "    verbose=0  # Suppress Keras's own verbose output\n",
    ")\n",
    "\n",
    "# Evaluate and make predictions\n",
    "predictions = model.predict(X_test)\n",
    "predicted_sales = scaler.inverse_transform(predictions.reshape(-1, 1))\n",
    "\n",
    "# Print the results\n",
    "print(\"Predicted sales (first 10):\", predicted_sales[:10])\n"
   ]
  },
  {
   "cell_type": "code",
   "execution_count": 47,
   "id": "c1b636b6",
   "metadata": {},
   "outputs": [
    {
     "name": "stderr",
     "output_type": "stream",
     "text": [
      "Encoding categorical variables: 100%|██████████████████████████████████████████████████████████████████████████████████████| 12/12 [00:07<00:00,  1.59it/s]\n",
      "Creating lagged features for sales: 100%|██████████████████████████████████████████████████████████████████████████████████| 10/10 [00:01<00:00,  9.57it/s]\n"
     ]
    },
    {
     "name": "stdout",
     "output_type": "stream",
     "text": [
      "Shape of X_train: (2443470, 10, 1)\n",
      "Shape of X_test: (610868, 10, 1)\n",
      "Shape of y_train: (2443470,)\n",
      "Shape of y_test: (610868,)\n"
     ]
    },
    {
     "data": {
      "text/plain": [
       "'\\'# Define the LSTM model\\nmodel = Sequential([\\n    LSTM(50, activation=\\'relu\\', input_shape=(X_train.shape[1], X_train.shape[2])),\\n    Dense(1)\\n])\\nmodel.compile(optimizer=\\'adam\\', loss=\\'mse\\')\\n\\n# Define the checkpoint callback\\ncheckpoint_filepath = \\'model_checkpoint.h5\\'\\ncheckpoint = ModelCheckpoint(\\n    filepath=checkpoint_filepath,\\n    monitor=\\'val_loss\\',\\n    save_best_only=True,\\n    mode=\\'min\\',\\n    verbose=1\\n)\\n\\n# Train the model with tqdm for progress tracking\\nhistory = model.fit(\\n    X_train, y_train,\\n    epochs=10,\\n    batch_size=32,\\n    validation_data=(X_test, y_test),\\n    callbacks=[checkpoint, TqdmCallback(verbose=1)],  # Include tqdm callback for progress bar\\n    verbose=0  # Suppress Keras\\'s own verbose output\\n)\\n\\n# Evaluate and make predictions\\npredictions = model.predict(X_test)\\npredicted_sales = scaler.inverse_transform(predictions.reshape(-1, 1))\\n\\n# Print the results\\nprint(\"Predicted sales (first 10):\", predicted_sales[:10])'"
      ]
     },
     "execution_count": 47,
     "metadata": {},
     "output_type": "execute_result"
    }
   ],
   "source": [
    "import pandas as pd\n",
    "import numpy as np\n",
    "from sklearn.preprocessing import MinMaxScaler, LabelEncoder\n",
    "from tensorflow.keras.models import Sequential\n",
    "from tensorflow.keras.layers import LSTM, Dense\n",
    "from tensorflow.keras.callbacks import ModelCheckpoint\n",
    "from tqdm import tqdm\n",
    "from tqdm.keras import TqdmCallback\n",
    "\n",
    "# Load and preprocess the data\n",
    "df_combined['date'] = pd.to_datetime(df_combined['date'])\n",
    "df_combined.sort_values(by=['date'], inplace=True)\n",
    "\n",
    "# Convert boolean columns to integers or strings\n",
    "df_combined['transferred'] = df_combined['transferred'].astype(str)\n",
    "\n",
    "# Encode categorical variables with tqdm\n",
    "label_encoders = {}\n",
    "for col in tqdm(['store_nbr', 'family', 'onpromotion', 'city', 'state', 'type', 'cluster', \n",
    "                 'holiday_type', 'locale', 'locale_name', 'description', 'transferred'], \n",
    "                desc=\"Encoding categorical variables\"):\n",
    "    le = LabelEncoder()\n",
    "    df_combined[col] = le.fit_transform(df_combined[col])\n",
    "    label_encoders[col] = le\n",
    "\n",
    "# Scale numerical data\n",
    "scaler = MinMaxScaler()\n",
    "df_combined['sales'] = scaler.fit_transform(df_combined[['sales']])\n",
    "\n",
    "# Create lagged features with tqdm\n",
    "def create_lagged_feature(data, target_col, lags: int):\n",
    "    df_lags = pd.DataFrame()\n",
    "    for lag in tqdm(range(1, lags + 1), desc=f\"Creating lagged features for {target_col}\"):\n",
    "        df_lags[f'{target_col}_lag{lag}'] = data[target_col].shift(lag)\n",
    "    return df_lags\n",
    "\n",
    "# Set lags and generate lagged features\n",
    "lags = 10\n",
    "lagged_sales = create_lagged_feature(df_combined[['sales']], 'sales', lags=lags)\n",
    "df_combined = pd.concat([df_combined, lagged_sales], axis=1)\n",
    "df_combined.dropna(inplace=True)\n",
    "\n",
    "# Prepare input and output\n",
    "'''X = df_combined[[f'sales_lag{lag}' for lag in range(1, lags + 1)]].values\n",
    "y = df_combined['sales'].values\n",
    "\n",
    "# Verify shapes before reshaping\n",
    "print(f\"Shape of X before reshaping: {X.shape}\")\n",
    "print(f\"Shape of y: {y.shape}\")'''\n",
    "\n",
    "# Reshape X for LSTM (samples, timesteps, features)\n",
    "# Ensure the reshaping dimensions align with the size of the array\n",
    "X = X.reshape((X.shape[0], lags, -1))  # Use -1 to infer the last dimension\n",
    "\n",
    "# Split into train and test\n",
    "train_size = int(0.8 * len(X))\n",
    "X_train, X_test = X[:train_size], X[train_size:]\n",
    "y_train, y_test = y[:train_size], y[train_size:]\n",
    "\n",
    "# Verify shapes of training and testing sets\n",
    "print(f\"Shape of X_train: {X_train.shape}\")\n",
    "print(f\"Shape of X_test: {X_test.shape}\")\n",
    "print(f\"Shape of y_train: {y_train.shape}\")\n",
    "print(f\"Shape of y_test: {y_test.shape}\")\n",
    "\n",
    "''''# Define the LSTM model\n",
    "model = Sequential([\n",
    "    LSTM(50, activation='relu', input_shape=(X_train.shape[1], X_train.shape[2])),\n",
    "    Dense(1)\n",
    "])\n",
    "model.compile(optimizer='adam', loss='mse')\n",
    "\n",
    "# Define the checkpoint callback\n",
    "checkpoint_filepath = 'model_checkpoint.h5'\n",
    "checkpoint = ModelCheckpoint(\n",
    "    filepath=checkpoint_filepath,\n",
    "    monitor='val_loss',\n",
    "    save_best_only=True,\n",
    "    mode='min',\n",
    "    verbose=1\n",
    ")\n",
    "\n",
    "# Train the model with tqdm for progress tracking\n",
    "history = model.fit(\n",
    "    X_train, y_train,\n",
    "    epochs=10,\n",
    "    batch_size=32,\n",
    "    validation_data=(X_test, y_test),\n",
    "    callbacks=[checkpoint, TqdmCallback(verbose=1)],  # Include tqdm callback for progress bar\n",
    "    verbose=0  # Suppress Keras's own verbose output\n",
    ")\n",
    "\n",
    "# Evaluate and make predictions\n",
    "predictions = model.predict(X_test)\n",
    "predicted_sales = scaler.inverse_transform(predictions.reshape(-1, 1))\n",
    "\n",
    "# Print the results\n",
    "print(\"Predicted sales (first 10):\", predicted_sales[:10])'''\n"
   ]
  },
  {
   "cell_type": "code",
   "execution_count": null,
   "id": "6be0790d",
   "metadata": {},
   "outputs": [],
   "source": []
  },
  {
   "cell_type": "code",
   "execution_count": 23,
   "id": "11babb7c",
   "metadata": {},
   "outputs": [],
   "source": [
    "model.save('SalesForecast.h5')\n",
    "loded_model = load_o"
   ]
  },
  {
   "cell_type": "code",
   "execution_count": 23,
   "id": "059b4947",
   "metadata": {},
   "outputs": [],
   "source": [
    "from tensorflow.keras.models import load_model"
   ]
  },
  {
   "cell_type": "code",
   "execution_count": 27,
   "id": "1b2bfc02",
   "metadata": {},
   "outputs": [
    {
     "name": "stdout",
     "output_type": "stream",
     "text": [
      "Model: \"sequential\"\n",
      "_________________________________________________________________\n",
      " Layer (type)                Output Shape              Param #   \n",
      "=================================================================\n",
      " lstm (LSTM)                 (None, 50)                10400     \n",
      "                                                                 \n",
      " dense (Dense)               (None, 1)                 51        \n",
      "                                                                 \n",
      "=================================================================\n",
      "Total params: 10,451\n",
      "Trainable params: 10,451\n",
      "Non-trainable params: 0\n",
      "_________________________________________________________________\n"
     ]
    }
   ],
   "source": [
    "model_saved = load_model('SalesForecast.h5')\n",
    "model_saved.summary()"
   ]
  },
  {
   "cell_type": "code",
   "execution_count": 30,
   "id": "1caa289c",
   "metadata": {},
   "outputs": [
    {
     "name": "stdout",
     "output_type": "stream",
     "text": [
      "19090/19090 [==============================] - 120s 6ms/step\n"
     ]
    }
   ],
   "source": [
    "# Evaluate and make predictions\n",
    "predictions = model_saved.predict(X_test)\n",
    "predicted_sales = scaler.inverse_transform(predictions.reshape(-1, 1))"
   ]
  },
  {
   "cell_type": "code",
   "execution_count": 29,
   "id": "66ffc804",
   "metadata": {},
   "outputs": [
    {
     "data": {
      "text/plain": [
       "(610868, 1)"
      ]
     },
     "execution_count": 29,
     "metadata": {},
     "output_type": "execute_result"
    }
   ],
   "source": [
    "predicted_sales.shape"
   ]
  },
  {
   "cell_type": "code",
   "execution_count": 31,
   "id": "2f147259",
   "metadata": {},
   "outputs": [
    {
     "data": {
      "text/plain": [
       "array([[1756.1251 ],\n",
       "       [ 808.3535 ],\n",
       "       [ 109.71645],\n",
       "       ...,\n",
       "       [ 359.34955],\n",
       "       [ 225.61497],\n",
       "       [ 140.00494]], dtype=float32)"
      ]
     },
     "execution_count": 31,
     "metadata": {},
     "output_type": "execute_result"
    }
   ],
   "source": [
    "predicted_sales"
   ]
  },
  {
   "cell_type": "code",
   "execution_count": 37,
   "id": "821e5a60",
   "metadata": {},
   "outputs": [
    {
     "data": {
      "text/plain": [
       "(610868, 10, 1)"
      ]
     },
     "execution_count": 37,
     "metadata": {},
     "output_type": "execute_result"
    }
   ],
   "source": [
    "X_test.shape"
   ]
  },
  {
   "cell_type": "code",
   "execution_count": 59,
   "id": "81a7aaf2",
   "metadata": {},
   "outputs": [
    {
     "name": "stdout",
     "output_type": "stream",
     "text": [
      "Shape of df_test: (557418, 10)\n",
      "              id        date  store_nbr            family  sales  onpromotion  \\\n",
      "2443470  2443470  2016-10-06         19         HOME CARE  136.0           10   \n",
      "2443471  2443471  2016-10-06         19        LADIESWEAR    1.0            0   \n",
      "2443472  2443472  2016-10-06         19   LAWN AND GARDEN    0.0            0   \n",
      "2443473  2443473  2016-10-06         19          LINGERIE   12.0            0   \n",
      "2443474  2443474  2016-10-06         19  LIQUOR,WINE,BEER   16.0            0   \n",
      "\n",
      "             city    state type  cluster  \n",
      "2443470  Guaranda  Bolivar    C       15  \n",
      "2443471  Guaranda  Bolivar    C       15  \n",
      "2443472  Guaranda  Bolivar    C       15  \n",
      "2443473  Guaranda  Bolivar    C       15  \n",
      "2443474  Guaranda  Bolivar    C       15  \n"
     ]
    }
   ],
   "source": [
    "# Split point index for the test set\n",
    "test_start_idx = train_size  # train_size already defined as 80% of data\n",
    "\n",
    "# Extract data from df_combined that corresponds to X_test\n",
    "df_test = df_combined.iloc[test_start_idx:]\n",
    "\n",
    "# Display the shape of df_test and first few rows\n",
    "print(f\"Shape of df_test: {df_test.shape}\")\n",
    "print(df_test.head())\n"
   ]
  },
  {
   "cell_type": "code",
   "execution_count": 60,
   "id": "18b3ac3d",
   "metadata": {},
   "outputs": [
    {
     "data": {
      "text/plain": [
       "(557418, 10)"
      ]
     },
     "execution_count": 60,
     "metadata": {},
     "output_type": "execute_result"
    }
   ],
   "source": [
    "df_test.shape"
   ]
  },
  {
   "cell_type": "code",
   "execution_count": 64,
   "id": "ce406d7c",
   "metadata": {},
   "outputs": [
    {
     "data": {
      "text/plain": [
       "557418"
      ]
     },
     "execution_count": 64,
     "metadata": {},
     "output_type": "execute_result"
    }
   ],
   "source": [
    "len(df_test['sales'])"
   ]
  },
  {
   "cell_type": "code",
   "execution_count": 65,
   "id": "88faf018",
   "metadata": {},
   "outputs": [
    {
     "name": "stdout",
     "output_type": "stream",
     "text": [
      "   predicted_sales\n",
      "0      1756.125122\n",
      "1       808.353516\n",
      "2       109.716454\n",
      "3       162.825516\n",
      "4        94.618210\n",
      "(610868, 1)\n"
     ]
    }
   ],
   "source": [
    "import pandas as pd\n",
    "\n",
    "# Convert predicted_sales to DataFrame\n",
    "predicted_sales_df = pd.DataFrame(predicted_sales, columns=['predicted_sales'])\n",
    "\n",
    "# Display the first few rows\n",
    "print(predicted_sales_df.head())\n",
    "\n",
    "# Check the shape\n",
    "print(predicted_sales_df.shape)\n"
   ]
  },
  {
   "cell_type": "code",
   "execution_count": 67,
   "id": "b79e8047",
   "metadata": {},
   "outputs": [
    {
     "data": {
      "text/plain": [
       "(        predicted_sales\n",
       " 0           1756.125122\n",
       " 1            808.353516\n",
       " 2            109.716454\n",
       " 3            162.825516\n",
       " 4             94.618210\n",
       " ...                 ...\n",
       " 610863       189.776169\n",
       " 610864       342.855469\n",
       " 610865       359.349548\n",
       " 610866       225.614975\n",
       " 610867       140.004944\n",
       " \n",
       " [610868 rows x 1 columns],\n",
       " (610868, 1))"
      ]
     },
     "execution_count": 67,
     "metadata": {},
     "output_type": "execute_result"
    }
   ],
   "source": [
    "predicted_sales_df,predicted_sales_df.shape"
   ]
  },
  {
   "cell_type": "code",
   "execution_count": 68,
   "id": "d17c3759",
   "metadata": {},
   "outputs": [
    {
     "name": "stdout",
     "output_type": "stream",
     "text": [
      "Shape of extracted DataFrame: (610868, 10)\n"
     ]
    },
    {
     "data": {
      "text/html": [
       "<div>\n",
       "<style scoped>\n",
       "    .dataframe tbody tr th:only-of-type {\n",
       "        vertical-align: middle;\n",
       "    }\n",
       "\n",
       "    .dataframe tbody tr th {\n",
       "        vertical-align: top;\n",
       "    }\n",
       "\n",
       "    .dataframe thead th {\n",
       "        text-align: right;\n",
       "    }\n",
       "</style>\n",
       "<table border=\"1\" class=\"dataframe\">\n",
       "  <thead>\n",
       "    <tr style=\"text-align: right;\">\n",
       "      <th></th>\n",
       "      <th>id</th>\n",
       "      <th>date</th>\n",
       "      <th>store_nbr</th>\n",
       "      <th>family</th>\n",
       "      <th>sales</th>\n",
       "      <th>onpromotion</th>\n",
       "      <th>city</th>\n",
       "      <th>state</th>\n",
       "      <th>type</th>\n",
       "      <th>cluster</th>\n",
       "    </tr>\n",
       "  </thead>\n",
       "  <tbody>\n",
       "    <tr>\n",
       "      <th>2390020</th>\n",
       "      <td>2390020</td>\n",
       "      <td>2016-09-06</td>\n",
       "      <td>19</td>\n",
       "      <td>POULTRY</td>\n",
       "      <td>91.948</td>\n",
       "      <td>0</td>\n",
       "      <td>Guaranda</td>\n",
       "      <td>Bolivar</td>\n",
       "      <td>C</td>\n",
       "      <td>15</td>\n",
       "    </tr>\n",
       "    <tr>\n",
       "      <th>2390021</th>\n",
       "      <td>2390021</td>\n",
       "      <td>2016-09-06</td>\n",
       "      <td>19</td>\n",
       "      <td>PREPARED FOODS</td>\n",
       "      <td>42.000</td>\n",
       "      <td>1</td>\n",
       "      <td>Guaranda</td>\n",
       "      <td>Bolivar</td>\n",
       "      <td>C</td>\n",
       "      <td>15</td>\n",
       "    </tr>\n",
       "    <tr>\n",
       "      <th>2390022</th>\n",
       "      <td>2390022</td>\n",
       "      <td>2016-09-06</td>\n",
       "      <td>19</td>\n",
       "      <td>PRODUCE</td>\n",
       "      <td>576.220</td>\n",
       "      <td>69</td>\n",
       "      <td>Guaranda</td>\n",
       "      <td>Bolivar</td>\n",
       "      <td>C</td>\n",
       "      <td>15</td>\n",
       "    </tr>\n",
       "    <tr>\n",
       "      <th>2390023</th>\n",
       "      <td>2390023</td>\n",
       "      <td>2016-09-06</td>\n",
       "      <td>19</td>\n",
       "      <td>SCHOOL AND OFFICE SUPPLIES</td>\n",
       "      <td>15.000</td>\n",
       "      <td>5</td>\n",
       "      <td>Guaranda</td>\n",
       "      <td>Bolivar</td>\n",
       "      <td>C</td>\n",
       "      <td>15</td>\n",
       "    </tr>\n",
       "    <tr>\n",
       "      <th>2390024</th>\n",
       "      <td>2390024</td>\n",
       "      <td>2016-09-06</td>\n",
       "      <td>19</td>\n",
       "      <td>SEAFOOD</td>\n",
       "      <td>5.000</td>\n",
       "      <td>0</td>\n",
       "      <td>Guaranda</td>\n",
       "      <td>Bolivar</td>\n",
       "      <td>C</td>\n",
       "      <td>15</td>\n",
       "    </tr>\n",
       "  </tbody>\n",
       "</table>\n",
       "</div>"
      ],
      "text/plain": [
       "              id        date  store_nbr                      family    sales  \\\n",
       "2390020  2390020  2016-09-06         19                     POULTRY   91.948   \n",
       "2390021  2390021  2016-09-06         19              PREPARED FOODS   42.000   \n",
       "2390022  2390022  2016-09-06         19                     PRODUCE  576.220   \n",
       "2390023  2390023  2016-09-06         19  SCHOOL AND OFFICE SUPPLIES   15.000   \n",
       "2390024  2390024  2016-09-06         19                     SEAFOOD    5.000   \n",
       "\n",
       "         onpromotion      city    state type  cluster  \n",
       "2390020            0  Guaranda  Bolivar    C       15  \n",
       "2390021            1  Guaranda  Bolivar    C       15  \n",
       "2390022           69  Guaranda  Bolivar    C       15  \n",
       "2390023            5  Guaranda  Bolivar    C       15  \n",
       "2390024            0  Guaranda  Bolivar    C       15  "
      ]
     },
     "execution_count": 68,
     "metadata": {},
     "output_type": "execute_result"
    }
   ],
   "source": [
    "df_combined\n",
    "# Extract the last 610,868 rows from df_combined\n",
    "df_last_rows = df_combined.tail(610868)\n",
    "\n",
    "# Display the shape to confirm\n",
    "print(f\"Shape of extracted DataFrame: {df_last_rows.shape}\")\n",
    "\n",
    "# Display the first few rows of the extracted data\n",
    "df_last_rows.head()"
   ]
  },
  {
   "cell_type": "code",
   "execution_count": 70,
   "id": "4132405e",
   "metadata": {},
   "outputs": [
    {
     "data": {
      "image/png": "[encoded data removed]",
      "text/plain": [
       "<Figure size 1200x600 with 1 Axes>"
      ]
     },
     "metadata": {},
     "output_type": "display_data"
    }
   ],
   "source": [
    "import pandas as pd\n",
    "import matplotlib.pyplot as plt\n",
    "\n",
    "# Merge predicted_sales_df with df_last_rows if not already merged\n",
    "df_last_rows['predicted_sales'] = predicted_sales_df.values\n",
    "\n",
    "# Convert 'date' to datetime if not already done\n",
    "df_last_rows['date'] = pd.to_datetime(df_last_rows['date'])\n",
    "\n",
    "# Extract year-month for grouping\n",
    "df_last_rows['year_month'] = df_last_rows['date'].dt.to_period('M')\n",
    "\n",
    "# Group by year-month and sum sales and predicted sales\n",
    "monthly_sales = df_last_rows.groupby('year_month').agg(\n",
    "    actual_sales=('sales', 'sum'),\n",
    "    predicted_sales=('predicted_sales', 'sum')\n",
    ").reset_index()\n",
    "\n",
    "# Convert 'year_month' back to a datetime format for plotting\n",
    "monthly_sales['year_month'] = monthly_sales['year_month'].dt.to_timestamp()\n",
    "\n",
    "# Plot the graph\n",
    "plt.figure(figsize=(12, 6))\n",
    "\n",
    "# Plot actual sales\n",
    "plt.plot(monthly_sales['year_month'], monthly_sales['actual_sales'], label='Actual Sales', alpha=0.7, marker='o')\n",
    "\n",
    "# Plot predicted sales\n",
    "plt.plot(monthly_sales['year_month'], monthly_sales['predicted_sales'], label='Predicted Sales', alpha=0.7, marker='x')\n",
    "\n",
    "# Add title and labels\n",
    "plt.title('Month-wise Sum of Sales and Predicted Sales')\n",
    "plt.xlabel('Date')\n",
    "plt.ylabel('Sales')\n",
    "plt.legend()\n",
    "\n",
    "# Show the plot\n",
    "plt.grid()\n",
    "plt.show()\n"
   ]
  },
  {
   "cell_type": "code",
   "execution_count": null,
   "id": "459f587c",
   "metadata": {},
   "outputs": [],
   "source": []
  }
 ],
 "metadata": {
  "kernelspec": {
   "display_name": "Python 3 (ipykernel)",
   "language": "python",
   "name": "python3"
  },
  "language_info": {
   "codemirror_mode": {
    "name": "ipython",
    "version": 3
   },
   "file_extension": ".py",
   "mimetype": "text/x-python",
   "name": "python",
   "nbconvert_exporter": "python",
   "pygments_lexer": "ipython3",
   "version": "3.9.13"
  }
 },
 "nbformat": 4,
 "nbformat_minor": 5
}
